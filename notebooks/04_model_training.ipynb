{
 "cells": [
  {
   "cell_type": "markdown",
   "metadata": {
    "id": "49NS3z0rQrxw"
   },
   "source": [
    "# 1. Training a Tree-based Model (XGBoost)\n",
    "\n"
   ]
  },
  {
   "cell_type": "markdown",
   "metadata": {},
   "source": [
    "##  1.1 Data Import"
   ]
  },
  {
   "cell_type": "markdown",
   "metadata": {
    "id": "z_Y_PVBcQryd"
   },
   "source": [
    "#### Import data"
   ]
  },
  {
   "cell_type": "code",
   "execution_count": 29,
   "metadata": {
    "colab": {
     "base_uri": "https://localhost:8080/",
     "height": 330
    },
    "executionInfo": {
     "elapsed": 9163,
     "status": "ok",
     "timestamp": 1725039330594,
     "user": {
      "displayName": "Andrea Baroni",
      "userId": "13443912204230378793"
     },
     "user_tz": -60
    },
    "id": "s4nA0S2YQryd",
    "outputId": "01f12dc3-f69b-44ef-e581-1c4405346686"
   },
   "outputs": [
    {
     "data": {
      "application/vnd.microsoft.datawrangler.viewer.v0+json": {
       "columns": [
        {
         "name": "index",
         "rawType": "int64",
         "type": "integer"
        },
        {
         "name": "loan_amnt",
         "rawType": "float64",
         "type": "float"
        },
        {
         "name": "funded_amnt",
         "rawType": "float64",
         "type": "float"
        },
        {
         "name": "funded_amnt_inv",
         "rawType": "float64",
         "type": "float"
        },
        {
         "name": "term",
         "rawType": "int64",
         "type": "integer"
        },
        {
         "name": "int_rate",
         "rawType": "float64",
         "type": "float"
        },
        {
         "name": "installment",
         "rawType": "float64",
         "type": "float"
        },
        {
         "name": "annual_inc",
         "rawType": "float64",
         "type": "float"
        },
        {
         "name": "dti",
         "rawType": "float64",
         "type": "float"
        },
        {
         "name": "delinq_2yrs",
         "rawType": "float64",
         "type": "float"
        },
        {
         "name": "fico_range_low",
         "rawType": "float64",
         "type": "float"
        },
        {
         "name": "fico_range_high",
         "rawType": "float64",
         "type": "float"
        },
        {
         "name": "inq_last_6mths",
         "rawType": "float64",
         "type": "float"
        },
        {
         "name": "mths_since_last_delinq",
         "rawType": "float64",
         "type": "float"
        },
        {
         "name": "open_acc",
         "rawType": "float64",
         "type": "float"
        },
        {
         "name": "pub_rec",
         "rawType": "float64",
         "type": "float"
        },
        {
         "name": "revol_bal",
         "rawType": "float64",
         "type": "float"
        },
        {
         "name": "revol_util",
         "rawType": "float64",
         "type": "float"
        },
        {
         "name": "total_acc",
         "rawType": "float64",
         "type": "float"
        },
        {
         "name": "out_prncp",
         "rawType": "float64",
         "type": "float"
        },
        {
         "name": "out_prncp_inv",
         "rawType": "float64",
         "type": "float"
        },
        {
         "name": "total_pymnt",
         "rawType": "float64",
         "type": "float"
        },
        {
         "name": "total_pymnt_inv",
         "rawType": "float64",
         "type": "float"
        },
        {
         "name": "total_rec_prncp",
         "rawType": "float64",
         "type": "float"
        },
        {
         "name": "total_rec_int",
         "rawType": "float64",
         "type": "float"
        },
        {
         "name": "total_rec_late_fee",
         "rawType": "float64",
         "type": "float"
        },
        {
         "name": "last_pymnt_amnt",
         "rawType": "float64",
         "type": "float"
        },
        {
         "name": "last_fico_range_high",
         "rawType": "float64",
         "type": "float"
        },
        {
         "name": "last_fico_range_low",
         "rawType": "float64",
         "type": "float"
        },
        {
         "name": "collections_12_mths_ex_med",
         "rawType": "float64",
         "type": "float"
        },
        {
         "name": "policy_code",
         "rawType": "float64",
         "type": "float"
        },
        {
         "name": "acc_now_delinq",
         "rawType": "float64",
         "type": "float"
        },
        {
         "name": "tot_coll_amt",
         "rawType": "float64",
         "type": "float"
        },
        {
         "name": "tot_cur_bal",
         "rawType": "float64",
         "type": "float"
        },
        {
         "name": "open_acc_6m",
         "rawType": "float64",
         "type": "float"
        },
        {
         "name": "open_act_il",
         "rawType": "float64",
         "type": "float"
        },
        {
         "name": "open_il_12m",
         "rawType": "float64",
         "type": "float"
        },
        {
         "name": "open_il_24m",
         "rawType": "float64",
         "type": "float"
        },
        {
         "name": "mths_since_rcnt_il",
         "rawType": "float64",
         "type": "float"
        },
        {
         "name": "total_bal_il",
         "rawType": "float64",
         "type": "float"
        },
        {
         "name": "il_util",
         "rawType": "float64",
         "type": "float"
        },
        {
         "name": "open_rv_12m",
         "rawType": "float64",
         "type": "float"
        },
        {
         "name": "open_rv_24m",
         "rawType": "float64",
         "type": "float"
        },
        {
         "name": "max_bal_bc",
         "rawType": "float64",
         "type": "float"
        },
        {
         "name": "all_util",
         "rawType": "float64",
         "type": "float"
        },
        {
         "name": "total_rev_hi_lim",
         "rawType": "float64",
         "type": "float"
        },
        {
         "name": "inq_fi",
         "rawType": "float64",
         "type": "float"
        },
        {
         "name": "total_cu_tl",
         "rawType": "float64",
         "type": "float"
        },
        {
         "name": "inq_last_12m",
         "rawType": "float64",
         "type": "float"
        },
        {
         "name": "acc_open_past_24mths",
         "rawType": "float64",
         "type": "float"
        },
        {
         "name": "avg_cur_bal",
         "rawType": "float64",
         "type": "float"
        },
        {
         "name": "bc_open_to_buy",
         "rawType": "float64",
         "type": "float"
        },
        {
         "name": "bc_util",
         "rawType": "float64",
         "type": "float"
        },
        {
         "name": "chargeoff_within_12_mths",
         "rawType": "float64",
         "type": "float"
        },
        {
         "name": "delinq_amnt",
         "rawType": "float64",
         "type": "float"
        },
        {
         "name": "mo_sin_old_il_acct",
         "rawType": "float64",
         "type": "float"
        },
        {
         "name": "mo_sin_old_rev_tl_op",
         "rawType": "float64",
         "type": "float"
        },
        {
         "name": "mo_sin_rcnt_rev_tl_op",
         "rawType": "float64",
         "type": "float"
        },
        {
         "name": "mo_sin_rcnt_tl",
         "rawType": "float64",
         "type": "float"
        },
        {
         "name": "mort_acc",
         "rawType": "float64",
         "type": "float"
        },
        {
         "name": "mths_since_recent_bc",
         "rawType": "float64",
         "type": "float"
        },
        {
         "name": "mths_since_recent_inq",
         "rawType": "float64",
         "type": "float"
        },
        {
         "name": "mths_since_recent_revol_delinq",
         "rawType": "float64",
         "type": "float"
        },
        {
         "name": "num_accts_ever_120_pd",
         "rawType": "float64",
         "type": "float"
        },
        {
         "name": "num_actv_bc_tl",
         "rawType": "float64",
         "type": "float"
        },
        {
         "name": "num_actv_rev_tl",
         "rawType": "float64",
         "type": "float"
        },
        {
         "name": "num_bc_sats",
         "rawType": "float64",
         "type": "float"
        },
        {
         "name": "num_bc_tl",
         "rawType": "float64",
         "type": "float"
        },
        {
         "name": "num_il_tl",
         "rawType": "float64",
         "type": "float"
        },
        {
         "name": "num_op_rev_tl",
         "rawType": "float64",
         "type": "float"
        },
        {
         "name": "num_rev_accts",
         "rawType": "float64",
         "type": "float"
        },
        {
         "name": "num_rev_tl_bal_gt_0",
         "rawType": "float64",
         "type": "float"
        },
        {
         "name": "num_sats",
         "rawType": "float64",
         "type": "float"
        },
        {
         "name": "num_tl_120dpd_2m",
         "rawType": "float64",
         "type": "float"
        },
        {
         "name": "num_tl_30dpd",
         "rawType": "float64",
         "type": "float"
        },
        {
         "name": "num_tl_90g_dpd_24m",
         "rawType": "float64",
         "type": "float"
        },
        {
         "name": "num_tl_op_past_12m",
         "rawType": "float64",
         "type": "float"
        },
        {
         "name": "pct_tl_nvr_dlq",
         "rawType": "float64",
         "type": "float"
        },
        {
         "name": "percent_bc_gt_75",
         "rawType": "float64",
         "type": "float"
        },
        {
         "name": "pub_rec_bankruptcies",
         "rawType": "float64",
         "type": "float"
        },
        {
         "name": "tax_liens",
         "rawType": "float64",
         "type": "float"
        },
        {
         "name": "tot_hi_cred_lim",
         "rawType": "float64",
         "type": "float"
        },
        {
         "name": "total_bal_ex_mort",
         "rawType": "float64",
         "type": "float"
        },
        {
         "name": "total_bc_limit",
         "rawType": "float64",
         "type": "float"
        },
        {
         "name": "total_il_high_credit_limit",
         "rawType": "float64",
         "type": "float"
        },
        {
         "name": "emp_length_num",
         "rawType": "float64",
         "type": "float"
        },
        {
         "name": "earliest_cr_line_days",
         "rawType": "float64",
         "type": "float"
        },
        {
         "name": "last_pymnt_d_days",
         "rawType": "float64",
         "type": "float"
        },
        {
         "name": "loan_default",
         "rawType": "int64",
         "type": "integer"
        },
        {
         "name": "grade_B",
         "rawType": "bool",
         "type": "boolean"
        },
        {
         "name": "grade_C",
         "rawType": "bool",
         "type": "boolean"
        },
        {
         "name": "grade_D",
         "rawType": "bool",
         "type": "boolean"
        },
        {
         "name": "grade_E",
         "rawType": "bool",
         "type": "boolean"
        },
        {
         "name": "grade_F",
         "rawType": "bool",
         "type": "boolean"
        },
        {
         "name": "grade_G",
         "rawType": "bool",
         "type": "boolean"
        },
        {
         "name": "home_ownership_MORTGAGE",
         "rawType": "bool",
         "type": "boolean"
        },
        {
         "name": "home_ownership_NONE",
         "rawType": "bool",
         "type": "boolean"
        },
        {
         "name": "home_ownership_OTHER",
         "rawType": "bool",
         "type": "boolean"
        },
        {
         "name": "home_ownership_OWN",
         "rawType": "bool",
         "type": "boolean"
        },
        {
         "name": "home_ownership_RENT",
         "rawType": "bool",
         "type": "boolean"
        },
        {
         "name": "verification_status_Source Verified",
         "rawType": "bool",
         "type": "boolean"
        },
        {
         "name": "verification_status_Verified",
         "rawType": "bool",
         "type": "boolean"
        },
        {
         "name": "purpose_credit_card",
         "rawType": "bool",
         "type": "boolean"
        },
        {
         "name": "purpose_debt_consolidation",
         "rawType": "bool",
         "type": "boolean"
        },
        {
         "name": "purpose_home_improvement",
         "rawType": "bool",
         "type": "boolean"
        },
        {
         "name": "purpose_house",
         "rawType": "bool",
         "type": "boolean"
        },
        {
         "name": "purpose_major_purchase",
         "rawType": "bool",
         "type": "boolean"
        },
        {
         "name": "purpose_medical",
         "rawType": "bool",
         "type": "boolean"
        },
        {
         "name": "purpose_moving",
         "rawType": "bool",
         "type": "boolean"
        },
        {
         "name": "purpose_other",
         "rawType": "bool",
         "type": "boolean"
        },
        {
         "name": "purpose_renewable_energy",
         "rawType": "bool",
         "type": "boolean"
        },
        {
         "name": "purpose_small_business",
         "rawType": "bool",
         "type": "boolean"
        },
        {
         "name": "purpose_vacation",
         "rawType": "bool",
         "type": "boolean"
        },
        {
         "name": "purpose_wedding",
         "rawType": "bool",
         "type": "boolean"
        },
        {
         "name": "application_type_Joint App",
         "rawType": "bool",
         "type": "boolean"
        },
        {
         "name": "hardship_status_BROKEN",
         "rawType": "bool",
         "type": "boolean"
        },
        {
         "name": "hardship_status_COMPLETE",
         "rawType": "bool",
         "type": "boolean"
        },
        {
         "name": "hardship_status_COMPLETED",
         "rawType": "bool",
         "type": "boolean"
        },
        {
         "name": "hardship_status_No Hardship",
         "rawType": "bool",
         "type": "boolean"
        }
       ],
       "conversionMethod": "pd.DataFrame",
       "ref": "7ca80d19-8236-4f57-b3dd-7d150ef97dcd",
       "rows": [
        [
         "0",
         "8.294299608857235",
         "8.294299608857235",
         "8.294299608857235",
         "36",
         "0.1229253468372982",
         "4.912140047347156",
         "10.778977123006351",
         "3.056356895370426",
         "1.0",
         "6.501289670540389",
         "6.507277712385012",
         "0.0",
         "2.995732273553991",
         "1.6094379124341005",
         "1.0",
         "1988.0",
         "0.6032224730319583",
         "2.5649493574615367",
         "3816.34",
         "3816.34",
         "5.590800395940859",
         "5.590800395940859",
         "5.2185162963444816",
         "4.434263234009391",
         "0.0",
         "4.912140047347156",
         "669.0",
         "665.0",
         "1.0",
         "1.0",
         "0.0",
         "8.251403065380556",
         "12.464679861119953",
         "0.0",
         "1.0",
         "0.0",
         "1.0",
         "16.0",
         "9960.0",
         "56.0",
         "0.0",
         "0.0",
         "0.0",
         "59.0",
         "7.783640596221253",
         "1.0",
         "0.0",
         "0.0",
         "0.6931471805599453",
         "11.078397081826632",
         null,
         null,
         "0.0",
         "0.0",
         "179.0",
         "4.330733340286331",
         "3.6635616461296463",
         "2.833213344056216",
         "1.0986122886681098",
         null,
         "2.833213344056216",
         "2.995732273553991",
         "0.6931471805599453",
         "0.0",
         "1.0986122886681098",
         "0.0",
         "0.6931471805599453",
         "1.791759469228055",
         "1.0986122886681098",
         "1.791759469228055",
         "1.0986122886681098",
         "1.6094379124341005",
         "0.0",
         "0.0",
         "0.0",
         "0.0",
         "75.0",
         null,
         "0.6931471805599453",
         "0.0",
         "12.88747360859746",
         "9.388402871849754",
         "0.0",
         "9.794174792595427",
         "10.0",
         "8.911934336161426",
         "1789.0",
         "0",
         "True",
         "False",
         "False",
         "False",
         "False",
         "False",
         "True",
         "False",
         "False",
         "False",
         "False",
         "True",
         "False",
         "False",
         "False",
         "True",
         "False",
         "False",
         "False",
         "False",
         "False",
         "False",
         "False",
         "False",
         "False",
         "False",
         "False",
         "False",
         "False",
         "True"
        ],
        [
         "1",
         "10.085850775128716",
         "10.085850775128716",
         "10.085850775128716",
         "60",
         "0.0876445098520463",
         "6.216745811883738",
         "10.950824090522444",
         "3.270708973508218",
         "0.0",
         "6.523562306149512",
         "6.529418838262226",
         "0.0",
         null,
         "2.3978952727983707",
         "0.0",
         "22697.0",
         "0.4977403842173352",
         "3.218875824868201",
         "4333.29",
         "4333.29",
         "10.146322352395115",
         "10.146322352395115",
         "9.886733483660056",
         "8.670849463329757",
         "0.0",
         "6.216745811883738",
         "704.0",
         "700.0",
         "0.0",
         "1.0",
         "0.0",
         "0.0",
         "11.03191750961342",
         "0.0",
         "3.0",
         "0.0",
         "3.0",
         "14.0",
         "39118.0",
         "72.0",
         "1.0",
         "1.0",
         "2137.0",
         "67.0",
         "10.468829770273569",
         "0.0",
         "7.0",
         "0.0",
         "1.6094379124341005",
         "8.729558869558568",
         "8.954415331137593",
         "40.5",
         "0.0",
         "0.0",
         "145.0",
         "4.927253685157205",
         "2.079441541679836",
         "2.079441541679836",
         "0.0",
         "2.079441541679836",
         "3.218875824868201",
         null,
         "0.0",
         "1.3862943611198906",
         "1.791759469228055",
         "1.791759469228055",
         "1.9459101490553128",
         "2.772588722239781",
         "2.079441541679836",
         "2.302585092994046",
         "1.791759469228055",
         "2.3978952727983707",
         "0.0",
         "0.0",
         "0.0",
         "0.6931471805599453",
         "95.8",
         "60.0",
         "0.0",
         "0.0",
         "11.38685190771486",
         "11.03191750961342",
         "9.472781556562168",
         "10.87719777527777",
         "6.0",
         "8.956093075610639",
         "1789.0",
         "0",
         "True",
         "False",
         "False",
         "False",
         "False",
         "False",
         "False",
         "False",
         "False",
         "False",
         "True",
         "True",
         "False",
         "True",
         "False",
         "False",
         "False",
         "False",
         "False",
         "False",
         "False",
         "False",
         "False",
         "False",
         "False",
         "False",
         "False",
         "False",
         "False",
         "True"
        ],
        [
         "2",
         "8.517393171418904",
         "8.517393171418904",
         "8.517393171418904",
         "36",
         "0.0997548331369922",
         "5.0967518263873215",
         "10.915106645867503",
         "2.106570209068088",
         "0.0",
         "6.501289670540389",
         "6.507277712385012",
         "0.0",
         null,
         "2.079441541679836",
         "1.0",
         "6001.0",
         "0.4226499328622652",
         "2.302585092994046",
         "0.0",
         "0.0",
         "8.673799055340961",
         "8.673798570288843",
         "8.517393171418904",
         "6.742491409109628",
         "0.0",
         "5.096384764104966",
         "789.0",
         "785.0",
         "0.0",
         "1.0",
         "0.0",
         "0.0",
         "11.9774893254656",
         null,
         null,
         null,
         null,
         null,
         null,
         null,
         null,
         null,
         null,
         null,
         "9.34145634983372",
         null,
         null,
         null,
         "1.6094379124341005",
         "10.031616880246656",
         "8.416709652837914",
         "54.8",
         "0.0",
         "0.0",
         "57.0",
         "4.060443010546419",
         "2.70805020110221",
         "2.302585092994046",
         "0.6931471805599453",
         "2.70805020110221",
         "0.6931471805599453",
         null,
         "0.0",
         "1.3862943611198906",
         "1.791759469228055",
         "1.3862943611198906",
         "1.3862943611198906",
         "1.0986122886681098",
         "1.791759469228055",
         "1.9459101490553128",
         "1.791759469228055",
         "2.079441541679836",
         "0.0",
         "0.0",
         "0.0",
         "0.6931471805599453",
         "100.0",
         "33.3",
         "0.0",
         "1.0",
         "12.050114499886943",
         "9.482274087459825",
         "9.210440366976515",
         "8.926251835034533",
         "10.0",
         "8.607582191143917",
         "2640.0",
         "0",
         "True",
         "False",
         "False",
         "False",
         "False",
         "False",
         "True",
         "False",
         "False",
         "False",
         "False",
         "False",
         "False",
         "True",
         "False",
         "False",
         "False",
         "False",
         "False",
         "False",
         "False",
         "False",
         "False",
         "False",
         "False",
         "False",
         "False",
         "False",
         "False",
         "True"
        ],
        [
         "3",
         "10.085850775128716",
         "10.085850775128716",
         "10.085850775128716",
         "60",
         "0.104810364352345",
         "6.260384201058775",
         "10.680539205318292",
         "3.2406373166497136",
         "0.0",
         "6.621405651764134",
         "6.626717749249025",
         "0.0",
         null,
         "2.772588722239781",
         "0.0",
         "6573.0",
         "0.1142211440900228",
         "3.1780538303479458",
         "16317.69",
         "16317.69",
         "9.392822749171176",
         "9.392822749171176",
         "8.946805722875718",
         "8.370922714406225",
         "0.0",
         "6.260384201058775",
         "749.0",
         "745.0",
         "0.0",
         "1.0",
         "0.0",
         "0.0",
         "11.55781278484612",
         "2.0",
         "1.0",
         "0.0",
         "1.0",
         "17.0",
         "11947.0",
         "60.0",
         "2.0",
         "3.0",
         "2223.0",
         "25.0",
         "10.905974329106854",
         "2.0",
         "0.0",
         "2.0",
         "1.6094379124341005",
         "8.849944227235596",
         "10.672229100017557",
         "12.0",
         "0.0",
         "0.0",
         "37.0",
         "4.890349128221754",
         "0.6931471805599453",
         "0.6931471805599453",
         "1.0986122886681098",
         "0.6931471805599453",
         "1.3862943611198906",
         null,
         "0.6931471805599453",
         "1.9459101490553128",
         "2.079441541679836",
         "2.4849066497880004",
         "2.833213344056216",
         "1.0986122886681098",
         "2.6390573296152584",
         "2.995732273553991",
         "2.079441541679836",
         "2.772588722239781",
         "0.0",
         "0.0",
         "0.0",
         "1.0986122886681098",
         "95.7",
         "0.0",
         "0.0",
         "0.0",
         "12.219023421038946",
         "9.826660502422802",
         "10.799595985047786",
         "9.90353755128617",
         null,
         "8.870101048785726",
         "1789.0",
         "0",
         "True",
         "False",
         "False",
         "False",
         "False",
         "False",
         "True",
         "False",
         "False",
         "False",
         "False",
         "False",
         "False",
         "False",
         "True",
         "False",
         "False",
         "False",
         "False",
         "False",
         "False",
         "False",
         "False",
         "False",
         "False",
         "False",
         "False",
         "False",
         "False",
         "True"
        ],
        [
         "4",
         "9.546884034617923",
         "9.546884034617923",
         "9.546884034617923",
         "60",
         "0.1274252882552388",
         "5.7800951575053645",
         "10.778977123006351",
         "3.2308043957334744",
         "0.0",
         "6.601230118728877",
         "6.606650186198215",
         "1.0",
         null,
         "2.833213344056216",
         "0.0",
         "11894.0",
         "0.239803992207317",
         "3.1780538303479458",
         "0.0",
         "0.0",
         "9.717560303038145",
         "9.717560303038145",
         "9.546884034617923",
         "7.865832659947679",
         "0.0",
         "9.317383271632076",
         "779.0",
         "775.0",
         "0.0",
         "1.0",
         "0.0",
         "0.0",
         "11.410383196542606",
         "2.0",
         "2.0",
         "1.0",
         "1.0",
         "7.0",
         "22953.0",
         "60.0",
         "3.0",
         "4.0",
         "3907.0",
         "43.0",
         "10.689692377847104",
         "1.0",
         "0.0",
         "2.0",
         "1.791759469228055",
         "8.637993891561942",
         "9.759559443729044",
         "39.9",
         "0.0",
         "0.0",
         "72.0",
         "4.770684624465665",
         "1.9459101490553128",
         "1.9459101490553128",
         "1.0986122886681098",
         "1.9459101490553128",
         "1.791759469228055",
         null,
         "0.0",
         "1.6094379124341005",
         "1.791759469228055",
         "1.791759469228055",
         "1.9459101490553128",
         "1.791759469228055",
         "2.6390573296152584",
         "2.833213344056216",
         "1.791759469228055",
         "2.833213344056216",
         "0.0",
         "0.0",
         "0.0",
         "1.6094379124341005",
         "100.0",
         "0.0",
         "0.0",
         "0.0",
         "11.932175128049009",
         "10.458751025732688",
         "10.268165387743457",
         "10.550119479354604",
         "10.0",
         "8.732788324973118",
         "2094.0",
         "0",
         "False",
         "True",
         "False",
         "False",
         "False",
         "False",
         "True",
         "False",
         "False",
         "False",
         "False",
         "True",
         "False",
         "False",
         "True",
         "False",
         "False",
         "False",
         "False",
         "False",
         "False",
         "False",
         "False",
         "False",
         "False",
         "False",
         "False",
         "False",
         "False",
         "True"
        ]
       ],
       "shape": {
        "columns": 118,
        "rows": 5
       }
      },
      "text/html": [
       "<div>\n",
       "<style scoped>\n",
       "    .dataframe tbody tr th:only-of-type {\n",
       "        vertical-align: middle;\n",
       "    }\n",
       "\n",
       "    .dataframe tbody tr th {\n",
       "        vertical-align: top;\n",
       "    }\n",
       "\n",
       "    .dataframe thead th {\n",
       "        text-align: right;\n",
       "    }\n",
       "</style>\n",
       "<table border=\"1\" class=\"dataframe\">\n",
       "  <thead>\n",
       "    <tr style=\"text-align: right;\">\n",
       "      <th></th>\n",
       "      <th>loan_amnt</th>\n",
       "      <th>funded_amnt</th>\n",
       "      <th>funded_amnt_inv</th>\n",
       "      <th>term</th>\n",
       "      <th>int_rate</th>\n",
       "      <th>installment</th>\n",
       "      <th>annual_inc</th>\n",
       "      <th>dti</th>\n",
       "      <th>delinq_2yrs</th>\n",
       "      <th>fico_range_low</th>\n",
       "      <th>...</th>\n",
       "      <th>purpose_other</th>\n",
       "      <th>purpose_renewable_energy</th>\n",
       "      <th>purpose_small_business</th>\n",
       "      <th>purpose_vacation</th>\n",
       "      <th>purpose_wedding</th>\n",
       "      <th>application_type_Joint App</th>\n",
       "      <th>hardship_status_BROKEN</th>\n",
       "      <th>hardship_status_COMPLETE</th>\n",
       "      <th>hardship_status_COMPLETED</th>\n",
       "      <th>hardship_status_No Hardship</th>\n",
       "    </tr>\n",
       "  </thead>\n",
       "  <tbody>\n",
       "    <tr>\n",
       "      <th>0</th>\n",
       "      <td>8.294300</td>\n",
       "      <td>8.294300</td>\n",
       "      <td>8.294300</td>\n",
       "      <td>36</td>\n",
       "      <td>0.122925</td>\n",
       "      <td>4.912140</td>\n",
       "      <td>10.778977</td>\n",
       "      <td>3.056357</td>\n",
       "      <td>1.0</td>\n",
       "      <td>6.501290</td>\n",
       "      <td>...</td>\n",
       "      <td>False</td>\n",
       "      <td>False</td>\n",
       "      <td>False</td>\n",
       "      <td>False</td>\n",
       "      <td>False</td>\n",
       "      <td>False</td>\n",
       "      <td>False</td>\n",
       "      <td>False</td>\n",
       "      <td>False</td>\n",
       "      <td>True</td>\n",
       "    </tr>\n",
       "    <tr>\n",
       "      <th>1</th>\n",
       "      <td>10.085851</td>\n",
       "      <td>10.085851</td>\n",
       "      <td>10.085851</td>\n",
       "      <td>60</td>\n",
       "      <td>0.087645</td>\n",
       "      <td>6.216746</td>\n",
       "      <td>10.950824</td>\n",
       "      <td>3.270709</td>\n",
       "      <td>0.0</td>\n",
       "      <td>6.523562</td>\n",
       "      <td>...</td>\n",
       "      <td>False</td>\n",
       "      <td>False</td>\n",
       "      <td>False</td>\n",
       "      <td>False</td>\n",
       "      <td>False</td>\n",
       "      <td>False</td>\n",
       "      <td>False</td>\n",
       "      <td>False</td>\n",
       "      <td>False</td>\n",
       "      <td>True</td>\n",
       "    </tr>\n",
       "    <tr>\n",
       "      <th>2</th>\n",
       "      <td>8.517393</td>\n",
       "      <td>8.517393</td>\n",
       "      <td>8.517393</td>\n",
       "      <td>36</td>\n",
       "      <td>0.099755</td>\n",
       "      <td>5.096752</td>\n",
       "      <td>10.915107</td>\n",
       "      <td>2.106570</td>\n",
       "      <td>0.0</td>\n",
       "      <td>6.501290</td>\n",
       "      <td>...</td>\n",
       "      <td>False</td>\n",
       "      <td>False</td>\n",
       "      <td>False</td>\n",
       "      <td>False</td>\n",
       "      <td>False</td>\n",
       "      <td>False</td>\n",
       "      <td>False</td>\n",
       "      <td>False</td>\n",
       "      <td>False</td>\n",
       "      <td>True</td>\n",
       "    </tr>\n",
       "    <tr>\n",
       "      <th>3</th>\n",
       "      <td>10.085851</td>\n",
       "      <td>10.085851</td>\n",
       "      <td>10.085851</td>\n",
       "      <td>60</td>\n",
       "      <td>0.104810</td>\n",
       "      <td>6.260384</td>\n",
       "      <td>10.680539</td>\n",
       "      <td>3.240637</td>\n",
       "      <td>0.0</td>\n",
       "      <td>6.621406</td>\n",
       "      <td>...</td>\n",
       "      <td>False</td>\n",
       "      <td>False</td>\n",
       "      <td>False</td>\n",
       "      <td>False</td>\n",
       "      <td>False</td>\n",
       "      <td>False</td>\n",
       "      <td>False</td>\n",
       "      <td>False</td>\n",
       "      <td>False</td>\n",
       "      <td>True</td>\n",
       "    </tr>\n",
       "    <tr>\n",
       "      <th>4</th>\n",
       "      <td>9.546884</td>\n",
       "      <td>9.546884</td>\n",
       "      <td>9.546884</td>\n",
       "      <td>60</td>\n",
       "      <td>0.127425</td>\n",
       "      <td>5.780095</td>\n",
       "      <td>10.778977</td>\n",
       "      <td>3.230804</td>\n",
       "      <td>0.0</td>\n",
       "      <td>6.601230</td>\n",
       "      <td>...</td>\n",
       "      <td>False</td>\n",
       "      <td>False</td>\n",
       "      <td>False</td>\n",
       "      <td>False</td>\n",
       "      <td>False</td>\n",
       "      <td>False</td>\n",
       "      <td>False</td>\n",
       "      <td>False</td>\n",
       "      <td>False</td>\n",
       "      <td>True</td>\n",
       "    </tr>\n",
       "  </tbody>\n",
       "</table>\n",
       "<p>5 rows × 118 columns</p>\n",
       "</div>"
      ],
      "text/plain": [
       "   loan_amnt  funded_amnt  funded_amnt_inv  term  int_rate  installment  \\\n",
       "0   8.294300     8.294300         8.294300    36  0.122925     4.912140   \n",
       "1  10.085851    10.085851        10.085851    60  0.087645     6.216746   \n",
       "2   8.517393     8.517393         8.517393    36  0.099755     5.096752   \n",
       "3  10.085851    10.085851        10.085851    60  0.104810     6.260384   \n",
       "4   9.546884     9.546884         9.546884    60  0.127425     5.780095   \n",
       "\n",
       "   annual_inc       dti  delinq_2yrs  fico_range_low  ...  purpose_other  \\\n",
       "0   10.778977  3.056357          1.0        6.501290  ...          False   \n",
       "1   10.950824  3.270709          0.0        6.523562  ...          False   \n",
       "2   10.915107  2.106570          0.0        6.501290  ...          False   \n",
       "3   10.680539  3.240637          0.0        6.621406  ...          False   \n",
       "4   10.778977  3.230804          0.0        6.601230  ...          False   \n",
       "\n",
       "   purpose_renewable_energy  purpose_small_business  purpose_vacation  \\\n",
       "0                     False                   False             False   \n",
       "1                     False                   False             False   \n",
       "2                     False                   False             False   \n",
       "3                     False                   False             False   \n",
       "4                     False                   False             False   \n",
       "\n",
       "   purpose_wedding  application_type_Joint App  hardship_status_BROKEN  \\\n",
       "0            False                       False                   False   \n",
       "1            False                       False                   False   \n",
       "2            False                       False                   False   \n",
       "3            False                       False                   False   \n",
       "4            False                       False                   False   \n",
       "\n",
       "   hardship_status_COMPLETE  hardship_status_COMPLETED  \\\n",
       "0                     False                      False   \n",
       "1                     False                      False   \n",
       "2                     False                      False   \n",
       "3                     False                      False   \n",
       "4                     False                      False   \n",
       "\n",
       "   hardship_status_No Hardship  \n",
       "0                         True  \n",
       "1                         True  \n",
       "2                         True  \n",
       "3                         True  \n",
       "4                         True  \n",
       "\n",
       "[5 rows x 118 columns]"
      ]
     },
     "execution_count": 29,
     "metadata": {},
     "output_type": "execute_result"
    }
   ],
   "source": [
    "import pandas as pd\n",
    "import numpy as np\n",
    "import matplotlib.pyplot as plt\n",
    "import seaborn as sns\n",
    "from sklearn.model_selection import train_test_split\n",
    "from sklearn.metrics import accuracy_score, roc_auc_score, confusion_matrix, classification_report\n",
    "from xgboost import XGBClassifier\n",
    "\n",
    "# Read data that was exported from previous session\n",
    "df_tree = pd.read_csv(\"../data/2-intermediate/df_out_dsif3_tree.csv\")\n",
    "df_tree.head()"
   ]
  },
  {
   "cell_type": "markdown",
   "metadata": {},
   "source": [
    "Do notice that we have logged most of the columns here."
   ]
  },
  {
   "cell_type": "code",
   "execution_count": 2,
   "metadata": {},
   "outputs": [
    {
     "data": {
      "text/plain": [
       "loan_default\n",
       "0    84965\n",
       "1    12578\n",
       "Name: count, dtype: int64"
      ]
     },
     "execution_count": 2,
     "metadata": {},
     "output_type": "execute_result"
    }
   ],
   "source": [
    "df_tree['loan_default'].value_counts()"
   ]
  },
  {
   "cell_type": "markdown",
   "metadata": {},
   "source": [
    "Since XGBoost benefits more from natural variation and can probably handle class imbalance, I won't be using SMOTE for now. But I will be assigning higher weight on the minority class."
   ]
  },
  {
   "cell_type": "code",
   "execution_count": 3,
   "metadata": {},
   "outputs": [],
   "source": [
    "X = df_tree.drop('loan_default', axis=1)\n",
    "y = df_tree['loan_default']\n",
    "\n",
    "X_train, X_test, y_train, y_test = train_test_split(X, y, test_size=0.2, random_state=22)"
   ]
  },
  {
   "cell_type": "markdown",
   "metadata": {},
   "source": [
    "## 1.2 Initial Training"
   ]
  },
  {
   "cell_type": "code",
   "execution_count": 4,
   "metadata": {},
   "outputs": [],
   "source": [
    "scale_pos_weight = df_tree['loan_default'].value_counts()[0] / df_tree['loan_default'].value_counts()[1]\n",
    "\n",
    "model = XGBClassifier(scale_pos_weight=scale_pos_weight)\n",
    "model.fit(X_train, y_train)\n",
    "\n",
    "y_pred = model.predict(X_test)\n",
    "y_pred_proba = model.predict_proba(X_test)[:, 1]"
   ]
  },
  {
   "cell_type": "code",
   "execution_count": 5,
   "metadata": {},
   "outputs": [
    {
     "name": "stdout",
     "output_type": "stream",
     "text": [
      "🔍 Classification Report:\n",
      "\n",
      "              precision    recall  f1-score   support\n",
      "\n",
      "           0     0.9975    0.9998    0.9986     16912\n",
      "           1     0.9984    0.9838    0.9911      2597\n",
      "\n",
      "    accuracy                         0.9976     19509\n",
      "   macro avg     0.9980    0.9918    0.9949     19509\n",
      "weighted avg     0.9976    0.9976    0.9976     19509\n",
      "\n"
     ]
    }
   ],
   "source": [
    "# Generate classification report\n",
    "report = classification_report(y_test, y_pred, digits=4)\n",
    "print(\"🔍 Classification Report:\\n\")\n",
    "print(report)"
   ]
  },
  {
   "cell_type": "code",
   "execution_count": null,
   "metadata": {},
   "outputs": [
    {
     "name": "stdout",
     "output_type": "stream",
     "text": [
      "\n",
      "📈 ROC AUC Score: 0.9993\n"
     ]
    }
   ],
   "source": [
    "auc = roc_auc_score(y_test, y_pred_proba)\n",
    "print(f\"\\n📈 ROC AUC Score: {auc:.4f}\")"
   ]
  },
  {
   "cell_type": "markdown",
   "metadata": {},
   "source": [
    "This is suspiciously too good. Perhaps future leaks or some sort of overfitting. We shall be using some of the complexity reducer RFE and check what could potentially be a future leak. Finally, we may increase regularisation parameter."
   ]
  },
  {
   "cell_type": "code",
   "execution_count": null,
   "metadata": {},
   "outputs": [
    {
     "ename": "KeyboardInterrupt",
     "evalue": "",
     "output_type": "error",
     "traceback": [
      "\u001b[1;31m---------------------------------------------------------------------------\u001b[0m",
      "\u001b[1;31mKeyboardInterrupt\u001b[0m                         Traceback (most recent call last)",
      "Cell \u001b[1;32mIn[30], line 19\u001b[0m\n\u001b[0;32m      8\u001b[0m rfecv \u001b[38;5;241m=\u001b[39m RFECV(\n\u001b[0;32m      9\u001b[0m     estimator\u001b[38;5;241m=\u001b[39mmodel,\n\u001b[0;32m     10\u001b[0m     step\u001b[38;5;241m=\u001b[39m\u001b[38;5;241m5\u001b[39m,                    \u001b[38;5;66;03m# remove 1 feature per iteration\u001b[39;00m\n\u001b[1;32m   (...)\u001b[0m\n\u001b[0;32m     15\u001b[0m     n_jobs\u001b[38;5;241m=\u001b[39m\u001b[38;5;241m-\u001b[39m\u001b[38;5;241m1\u001b[39m\n\u001b[0;32m     16\u001b[0m )\n\u001b[0;32m     18\u001b[0m \u001b[38;5;66;03m# Fit RFECV\u001b[39;00m\n\u001b[1;32m---> 19\u001b[0m \u001b[43mrfecv\u001b[49m\u001b[38;5;241;43m.\u001b[39;49m\u001b[43mfit\u001b[49m\u001b[43m(\u001b[49m\u001b[43mX_train\u001b[49m\u001b[43m,\u001b[49m\u001b[43m \u001b[49m\u001b[43my_train\u001b[49m\u001b[43m)\u001b[49m\n\u001b[0;32m     21\u001b[0m \u001b[38;5;66;03m# Get selected features\u001b[39;00m\n\u001b[0;32m     22\u001b[0m selected_features \u001b[38;5;241m=\u001b[39m X_train\u001b[38;5;241m.\u001b[39mcolumns[rfecv\u001b[38;5;241m.\u001b[39msupport_]\u001b[38;5;241m.\u001b[39mtolist()\n",
      "File \u001b[1;32mc:\\Users\\U-ser\\anaconda3\\envs\\python_3_12_8\\Lib\\site-packages\\sklearn\\utils\\validation.py:63\u001b[0m, in \u001b[0;36m_deprecate_positional_args.<locals>._inner_deprecate_positional_args.<locals>.inner_f\u001b[1;34m(*args, **kwargs)\u001b[0m\n\u001b[0;32m     61\u001b[0m extra_args \u001b[38;5;241m=\u001b[39m \u001b[38;5;28mlen\u001b[39m(args) \u001b[38;5;241m-\u001b[39m \u001b[38;5;28mlen\u001b[39m(all_args)\n\u001b[0;32m     62\u001b[0m \u001b[38;5;28;01mif\u001b[39;00m extra_args \u001b[38;5;241m<\u001b[39m\u001b[38;5;241m=\u001b[39m \u001b[38;5;241m0\u001b[39m:\n\u001b[1;32m---> 63\u001b[0m     \u001b[38;5;28;01mreturn\u001b[39;00m \u001b[43mf\u001b[49m\u001b[43m(\u001b[49m\u001b[38;5;241;43m*\u001b[39;49m\u001b[43margs\u001b[49m\u001b[43m,\u001b[49m\u001b[43m \u001b[49m\u001b[38;5;241;43m*\u001b[39;49m\u001b[38;5;241;43m*\u001b[39;49m\u001b[43mkwargs\u001b[49m\u001b[43m)\u001b[49m\n\u001b[0;32m     65\u001b[0m \u001b[38;5;66;03m# extra_args > 0\u001b[39;00m\n\u001b[0;32m     66\u001b[0m args_msg \u001b[38;5;241m=\u001b[39m [\n\u001b[0;32m     67\u001b[0m     \u001b[38;5;124m\"\u001b[39m\u001b[38;5;132;01m{}\u001b[39;00m\u001b[38;5;124m=\u001b[39m\u001b[38;5;132;01m{}\u001b[39;00m\u001b[38;5;124m\"\u001b[39m\u001b[38;5;241m.\u001b[39mformat(name, arg)\n\u001b[0;32m     68\u001b[0m     \u001b[38;5;28;01mfor\u001b[39;00m name, arg \u001b[38;5;129;01min\u001b[39;00m \u001b[38;5;28mzip\u001b[39m(kwonly_args[:extra_args], args[\u001b[38;5;241m-\u001b[39mextra_args:])\n\u001b[0;32m     69\u001b[0m ]\n",
      "File \u001b[1;32mc:\\Users\\U-ser\\anaconda3\\envs\\python_3_12_8\\Lib\\site-packages\\sklearn\\base.py:1389\u001b[0m, in \u001b[0;36m_fit_context.<locals>.decorator.<locals>.wrapper\u001b[1;34m(estimator, *args, **kwargs)\u001b[0m\n\u001b[0;32m   1382\u001b[0m     estimator\u001b[38;5;241m.\u001b[39m_validate_params()\n\u001b[0;32m   1384\u001b[0m \u001b[38;5;28;01mwith\u001b[39;00m config_context(\n\u001b[0;32m   1385\u001b[0m     skip_parameter_validation\u001b[38;5;241m=\u001b[39m(\n\u001b[0;32m   1386\u001b[0m         prefer_skip_nested_validation \u001b[38;5;129;01mor\u001b[39;00m global_skip_validation\n\u001b[0;32m   1387\u001b[0m     )\n\u001b[0;32m   1388\u001b[0m ):\n\u001b[1;32m-> 1389\u001b[0m     \u001b[38;5;28;01mreturn\u001b[39;00m \u001b[43mfit_method\u001b[49m\u001b[43m(\u001b[49m\u001b[43mestimator\u001b[49m\u001b[43m,\u001b[49m\u001b[43m \u001b[49m\u001b[38;5;241;43m*\u001b[39;49m\u001b[43margs\u001b[49m\u001b[43m,\u001b[49m\u001b[43m \u001b[49m\u001b[38;5;241;43m*\u001b[39;49m\u001b[38;5;241;43m*\u001b[39;49m\u001b[43mkwargs\u001b[49m\u001b[43m)\u001b[49m\n",
      "File \u001b[1;32mc:\\Users\\U-ser\\anaconda3\\envs\\python_3_12_8\\Lib\\site-packages\\sklearn\\feature_selection\\_rfe.py:873\u001b[0m, in \u001b[0;36mRFECV.fit\u001b[1;34m(self, X, y, groups, **params)\u001b[0m\n\u001b[0;32m    870\u001b[0m     parallel \u001b[38;5;241m=\u001b[39m Parallel(n_jobs\u001b[38;5;241m=\u001b[39m\u001b[38;5;28mself\u001b[39m\u001b[38;5;241m.\u001b[39mn_jobs)\n\u001b[0;32m    871\u001b[0m     func \u001b[38;5;241m=\u001b[39m delayed(_rfe_single_fit)\n\u001b[1;32m--> 873\u001b[0m scores_features \u001b[38;5;241m=\u001b[39m \u001b[43mparallel\u001b[49m\u001b[43m(\u001b[49m\n\u001b[0;32m    874\u001b[0m \u001b[43m    \u001b[49m\u001b[43mfunc\u001b[49m\u001b[43m(\u001b[49m\u001b[43mclone\u001b[49m\u001b[43m(\u001b[49m\u001b[43mrfe\u001b[49m\u001b[43m)\u001b[49m\u001b[43m,\u001b[49m\u001b[43m \u001b[49m\u001b[38;5;28;43mself\u001b[39;49m\u001b[38;5;241;43m.\u001b[39;49m\u001b[43mestimator\u001b[49m\u001b[43m,\u001b[49m\u001b[43m \u001b[49m\u001b[43mX\u001b[49m\u001b[43m,\u001b[49m\u001b[43m \u001b[49m\u001b[43my\u001b[49m\u001b[43m,\u001b[49m\u001b[43m \u001b[49m\u001b[43mtrain\u001b[49m\u001b[43m,\u001b[49m\u001b[43m \u001b[49m\u001b[43mtest\u001b[49m\u001b[43m,\u001b[49m\u001b[43m \u001b[49m\u001b[43mscorer\u001b[49m\u001b[43m,\u001b[49m\u001b[43m \u001b[49m\u001b[43mrouted_params\u001b[49m\u001b[43m)\u001b[49m\n\u001b[0;32m    875\u001b[0m \u001b[43m    \u001b[49m\u001b[38;5;28;43;01mfor\u001b[39;49;00m\u001b[43m \u001b[49m\u001b[43mtrain\u001b[49m\u001b[43m,\u001b[49m\u001b[43m \u001b[49m\u001b[43mtest\u001b[49m\u001b[43m \u001b[49m\u001b[38;5;129;43;01min\u001b[39;49;00m\u001b[43m \u001b[49m\u001b[43mcv\u001b[49m\u001b[38;5;241;43m.\u001b[39;49m\u001b[43msplit\u001b[49m\u001b[43m(\u001b[49m\u001b[43mX\u001b[49m\u001b[43m,\u001b[49m\u001b[43m \u001b[49m\u001b[43my\u001b[49m\u001b[43m,\u001b[49m\u001b[43m \u001b[49m\u001b[38;5;241;43m*\u001b[39;49m\u001b[38;5;241;43m*\u001b[39;49m\u001b[43mrouted_params\u001b[49m\u001b[38;5;241;43m.\u001b[39;49m\u001b[43msplitter\u001b[49m\u001b[38;5;241;43m.\u001b[39;49m\u001b[43msplit\u001b[49m\u001b[43m)\u001b[49m\n\u001b[0;32m    876\u001b[0m \u001b[43m\u001b[49m\u001b[43m)\u001b[49m\n\u001b[0;32m    877\u001b[0m scores, step_n_features \u001b[38;5;241m=\u001b[39m \u001b[38;5;28mzip\u001b[39m(\u001b[38;5;241m*\u001b[39mscores_features)\n\u001b[0;32m    879\u001b[0m step_n_features_rev \u001b[38;5;241m=\u001b[39m np\u001b[38;5;241m.\u001b[39marray(step_n_features[\u001b[38;5;241m0\u001b[39m])[::\u001b[38;5;241m-\u001b[39m\u001b[38;5;241m1\u001b[39m]\n",
      "File \u001b[1;32mc:\\Users\\U-ser\\anaconda3\\envs\\python_3_12_8\\Lib\\site-packages\\sklearn\\utils\\parallel.py:77\u001b[0m, in \u001b[0;36mParallel.__call__\u001b[1;34m(self, iterable)\u001b[0m\n\u001b[0;32m     72\u001b[0m config \u001b[38;5;241m=\u001b[39m get_config()\n\u001b[0;32m     73\u001b[0m iterable_with_config \u001b[38;5;241m=\u001b[39m (\n\u001b[0;32m     74\u001b[0m     (_with_config(delayed_func, config), args, kwargs)\n\u001b[0;32m     75\u001b[0m     \u001b[38;5;28;01mfor\u001b[39;00m delayed_func, args, kwargs \u001b[38;5;129;01min\u001b[39;00m iterable\n\u001b[0;32m     76\u001b[0m )\n\u001b[1;32m---> 77\u001b[0m \u001b[38;5;28;01mreturn\u001b[39;00m \u001b[38;5;28;43msuper\u001b[39;49m\u001b[43m(\u001b[49m\u001b[43m)\u001b[49m\u001b[38;5;241;43m.\u001b[39;49m\u001b[38;5;21;43m__call__\u001b[39;49m\u001b[43m(\u001b[49m\u001b[43miterable_with_config\u001b[49m\u001b[43m)\u001b[49m\n",
      "File \u001b[1;32mc:\\Users\\U-ser\\anaconda3\\envs\\python_3_12_8\\Lib\\site-packages\\joblib\\parallel.py:2007\u001b[0m, in \u001b[0;36mParallel.__call__\u001b[1;34m(self, iterable)\u001b[0m\n\u001b[0;32m   2001\u001b[0m \u001b[38;5;66;03m# The first item from the output is blank, but it makes the interpreter\u001b[39;00m\n\u001b[0;32m   2002\u001b[0m \u001b[38;5;66;03m# progress until it enters the Try/Except block of the generator and\u001b[39;00m\n\u001b[0;32m   2003\u001b[0m \u001b[38;5;66;03m# reaches the first `yield` statement. This starts the asynchronous\u001b[39;00m\n\u001b[0;32m   2004\u001b[0m \u001b[38;5;66;03m# dispatch of the tasks to the workers.\u001b[39;00m\n\u001b[0;32m   2005\u001b[0m \u001b[38;5;28mnext\u001b[39m(output)\n\u001b[1;32m-> 2007\u001b[0m \u001b[38;5;28;01mreturn\u001b[39;00m output \u001b[38;5;28;01mif\u001b[39;00m \u001b[38;5;28mself\u001b[39m\u001b[38;5;241m.\u001b[39mreturn_generator \u001b[38;5;28;01melse\u001b[39;00m \u001b[38;5;28;43mlist\u001b[39;49m\u001b[43m(\u001b[49m\u001b[43moutput\u001b[49m\u001b[43m)\u001b[49m\n",
      "File \u001b[1;32mc:\\Users\\U-ser\\anaconda3\\envs\\python_3_12_8\\Lib\\site-packages\\joblib\\parallel.py:1650\u001b[0m, in \u001b[0;36mParallel._get_outputs\u001b[1;34m(self, iterator, pre_dispatch)\u001b[0m\n\u001b[0;32m   1647\u001b[0m     \u001b[38;5;28;01myield\u001b[39;00m\n\u001b[0;32m   1649\u001b[0m     \u001b[38;5;28;01mwith\u001b[39;00m \u001b[38;5;28mself\u001b[39m\u001b[38;5;241m.\u001b[39m_backend\u001b[38;5;241m.\u001b[39mretrieval_context():\n\u001b[1;32m-> 1650\u001b[0m         \u001b[38;5;28;01myield from\u001b[39;00m \u001b[38;5;28mself\u001b[39m\u001b[38;5;241m.\u001b[39m_retrieve()\n\u001b[0;32m   1652\u001b[0m \u001b[38;5;28;01mexcept\u001b[39;00m \u001b[38;5;167;01mGeneratorExit\u001b[39;00m:\n\u001b[0;32m   1653\u001b[0m     \u001b[38;5;66;03m# The generator has been garbage collected before being fully\u001b[39;00m\n\u001b[0;32m   1654\u001b[0m     \u001b[38;5;66;03m# consumed. This aborts the remaining tasks if possible and warn\u001b[39;00m\n\u001b[0;32m   1655\u001b[0m     \u001b[38;5;66;03m# the user if necessary.\u001b[39;00m\n\u001b[0;32m   1656\u001b[0m     \u001b[38;5;28mself\u001b[39m\u001b[38;5;241m.\u001b[39m_exception \u001b[38;5;241m=\u001b[39m \u001b[38;5;28;01mTrue\u001b[39;00m\n",
      "File \u001b[1;32mc:\\Users\\U-ser\\anaconda3\\envs\\python_3_12_8\\Lib\\site-packages\\joblib\\parallel.py:1762\u001b[0m, in \u001b[0;36mParallel._retrieve\u001b[1;34m(self)\u001b[0m\n\u001b[0;32m   1757\u001b[0m \u001b[38;5;66;03m# If the next job is not ready for retrieval yet, we just wait for\u001b[39;00m\n\u001b[0;32m   1758\u001b[0m \u001b[38;5;66;03m# async callbacks to progress.\u001b[39;00m\n\u001b[0;32m   1759\u001b[0m \u001b[38;5;28;01mif\u001b[39;00m ((\u001b[38;5;28mlen\u001b[39m(\u001b[38;5;28mself\u001b[39m\u001b[38;5;241m.\u001b[39m_jobs) \u001b[38;5;241m==\u001b[39m \u001b[38;5;241m0\u001b[39m) \u001b[38;5;129;01mor\u001b[39;00m\n\u001b[0;32m   1760\u001b[0m     (\u001b[38;5;28mself\u001b[39m\u001b[38;5;241m.\u001b[39m_jobs[\u001b[38;5;241m0\u001b[39m]\u001b[38;5;241m.\u001b[39mget_status(\n\u001b[0;32m   1761\u001b[0m         timeout\u001b[38;5;241m=\u001b[39m\u001b[38;5;28mself\u001b[39m\u001b[38;5;241m.\u001b[39mtimeout) \u001b[38;5;241m==\u001b[39m TASK_PENDING)):\n\u001b[1;32m-> 1762\u001b[0m     \u001b[43mtime\u001b[49m\u001b[38;5;241;43m.\u001b[39;49m\u001b[43msleep\u001b[49m\u001b[43m(\u001b[49m\u001b[38;5;241;43m0.01\u001b[39;49m\u001b[43m)\u001b[49m\n\u001b[0;32m   1763\u001b[0m     \u001b[38;5;28;01mcontinue\u001b[39;00m\n\u001b[0;32m   1765\u001b[0m \u001b[38;5;66;03m# We need to be careful: the job list can be filling up as\u001b[39;00m\n\u001b[0;32m   1766\u001b[0m \u001b[38;5;66;03m# we empty it and Python list are not thread-safe by\u001b[39;00m\n\u001b[0;32m   1767\u001b[0m \u001b[38;5;66;03m# default hence the use of the lock\u001b[39;00m\n",
      "\u001b[1;31mKeyboardInterrupt\u001b[0m: "
     ]
    }
   ],
   "source": [
    "from sklearn.feature_selection import RFECV, RFE\n",
    "from sklearn.model_selection import StratifiedKFold\n",
    "\n",
    "# Initialize base model\n",
    "model = XGBClassifier(scale_pos_weight=scale_pos_weight,  eval_metric='logloss')\n",
    "\n",
    "# Setup RFECV (recursive feature elimination with cross-validation)\n",
    "rfecv = RFECV(\n",
    "    estimator=model,\n",
    "    step=5,                    # remove 1 feature per iteration\n",
    "    cv=StratifiedKFold(3),\n",
    "    scoring='roc_auc',\n",
    "    min_features_to_select=20,\n",
    "    verbose=1,\n",
    "    n_jobs=-1\n",
    ")\n",
    "\n",
    "# Fit RFECV\n",
    "rfecv.fit(X_train, y_train)\n",
    "\n",
    "# Get selected features\n",
    "selected_features = X_train.columns[rfecv.support_].tolist()\n",
    "\n",
    "print(f\"\\n Selected {len(selected_features)} features:\\n\", selected_features)\n",
    "\n",
    "# Re-train final model with selected features\n",
    "model_final = XGBClassifier(scale_pos_weight=scale_pos_weight, use_label_encoder=False, eval_metric='logloss')\n",
    "model_final.fit(X_train[selected_features], y_train)\n",
    "\n",
    "# Evaluate\n",
    "y_pred = model_final.predict(X_test[selected_features])\n",
    "y_proba = model_final.predict_proba(X_test[selected_features])[:, 1]\n",
    "\n",
    "print(\"\\nClassification Report:\")\n",
    "print(classification_report(y_test, y_pred))\n",
    "\n",
    "print(f\"ROC AUC Score: {roc_auc_score(y_test, y_proba):.4f}\")\n",
    "\n",
    "# CM\n",
    "cm = confusion_matrix(y_test, y_pred)\n",
    "sns.heatmap(cm, annot=True, fmt='d', cmap='Blues')\n"
   ]
  },
  {
   "cell_type": "markdown",
   "metadata": {},
   "source": [
    "Most of these data are only known after issuing the loan so it is somewhat of a future leak which we shall remove."
   ]
  },
  {
   "cell_type": "code",
   "execution_count": 31,
   "metadata": {},
   "outputs": [],
   "source": [
    "leakage_cols = [\n",
    "    'total_rec_late_fee',\n",
    "    'total_rec_prncp',\n",
    "    'out_prncp',\n",
    "    'last_pymnt_amnt',\n",
    "    'last_pymnt_d',\n",
    "    'funded_amnt_inv',\n",
    "    'funded_amnt',\n",
    "    'out_prncp_inv',\n",
    "    'total_pymnt',\n",
    "    'total_pymnt_inv',\n",
    "    'last_pymnt_d_days',\n",
    "    'last_credit_pull_d_days',\n",
    "    'issue_d_days',\n",
    "    'total_rec_int',\n",
    "]\n",
    "df_tree.drop(columns=leakage_cols, inplace=True, errors='ignore')\n",
    "\n",
    "X = df_tree.drop('loan_default', axis=1)\n",
    "y = df_tree['loan_default']\n",
    "\n",
    "X_train, X_test, y_train, y_test = train_test_split(X, y, test_size=0.2, random_state=22)"
   ]
  },
  {
   "cell_type": "code",
   "execution_count": 36,
   "metadata": {},
   "outputs": [
    {
     "name": "stdout",
     "output_type": "stream",
     "text": [
      "Exactly 20 features selected: Index(['loan_amnt', 'term', 'installment', 'annual_inc', 'dti',\n",
      "       'fico_range_low', 'revol_util', 'last_fico_range_high', 'open_il_12m',\n",
      "       'max_bal_bc', 'inq_fi', 'total_cu_tl', 'num_bc_tl', 'pct_tl_nvr_dlq',\n",
      "       'emp_length_num', 'earliest_cr_line_days', 'hardship_status_BROKEN',\n",
      "       'hardship_status_COMPLETE', 'hardship_status_COMPLETED',\n",
      "       'hardship_status_No Hardship'],\n",
      "      dtype='object')\n",
      "\n",
      "Classification Report:\n",
      "              precision    recall  f1-score   support\n",
      "\n",
      "           0       0.98      0.91      0.94     16912\n",
      "           1       0.60      0.87      0.71      2597\n",
      "\n",
      "    accuracy                           0.91     19509\n",
      "   macro avg       0.79      0.89      0.83     19509\n",
      "weighted avg       0.93      0.91      0.91     19509\n",
      "\n",
      "ROC AUC Score: 0.9480\n"
     ]
    },
    {
     "name": "stderr",
     "output_type": "stream",
     "text": [
      "c:\\Users\\U-ser\\anaconda3\\envs\\python_3_12_8\\Lib\\site-packages\\xgboost\\training.py:183: UserWarning: [11:28:48] WARNING: C:\\actions-runner\\_work\\xgboost\\xgboost\\src\\learner.cc:738: \n",
      "Parameters: { \"use_label_encoder\" } are not used.\n",
      "\n",
      "  bst.update(dtrain, iteration=i, fobj=obj)\n"
     ]
    }
   ],
   "source": [
    "model = XGBClassifier(scale_pos_weight=scale_pos_weight, eval_metric='logloss')\n",
    "rfe = RFE(estimator=model, n_features_to_select=20, step=1)\n",
    "\n",
    "rfe.fit(X_train, y_train)\n",
    "selected_features = X_train.columns[rfe.support_]\n",
    "print(\"Exactly 20 features selected:\", selected_features)\n",
    "\n",
    "# Re-train final model with selected features\n",
    "model_final = XGBClassifier(scale_pos_weight=scale_pos_weight, use_label_encoder=False, eval_metric='logloss')\n",
    "model_final.fit(X_train[selected_features], y_train)\n",
    "\n",
    "# Evaluate\n",
    "y_pred = model_final.predict(X_test[selected_features])\n",
    "y_proba = model_final.predict_proba(X_test[selected_features])[:, 1]\n",
    "\n",
    "print(\"\\nClassification Report:\")\n",
    "print(classification_report(y_test, y_pred))\n",
    "\n",
    "print(f\"ROC AUC Score: {roc_auc_score(y_test, y_proba):.4f}\")"
   ]
  },
  {
   "cell_type": "code",
   "execution_count": 37,
   "metadata": {},
   "outputs": [
    {
     "data": {
      "image/png": "[encoded data removed]",
      "text/plain": [
       "<Figure size 1000x500 with 1 Axes>"
      ]
     },
     "metadata": {},
     "output_type": "display_data"
    }
   ],
   "source": [
    "plt.figure(figsize=(10, 5))\n",
    "plt.plot(range(1, len(rfecv.cv_results_['mean_test_score']) + 1),\n",
    "         rfecv.cv_results_['mean_test_score'], marker='o')\n",
    "plt.xlabel(\"Number of Features Selected\")\n",
    "plt.ylabel(\"Cross-Validation AUC Score\")\n",
    "plt.title(\"Feature Selection with RFECV\")\n",
    "plt.grid(True)\n",
    "plt.show()"
   ]
  },
  {
   "cell_type": "code",
   "execution_count": 38,
   "metadata": {},
   "outputs": [
    {
     "name": "stderr",
     "output_type": "stream",
     "text": [
      "C:\\Users\\U-ser\\AppData\\Local\\Temp\\ipykernel_30164\\2368005886.py:19: UserWarning: Glyph 128269 (\\N{LEFT-POINTING MAGNIFYING GLASS}) missing from font(s) DejaVu Sans.\n",
      "  plt.tight_layout()\n",
      "c:\\Users\\U-ser\\anaconda3\\envs\\python_3_12_8\\Lib\\site-packages\\IPython\\core\\pylabtools.py:170: UserWarning: Glyph 128269 (\\N{LEFT-POINTING MAGNIFYING GLASS}) missing from font(s) DejaVu Sans.\n",
      "  fig.canvas.print_figure(bytes_io, **kw)\n"
     ]
    },
    {
     "data": {
      "image/png": "[encoded data removed]",
      "text/plain": [
       "<Figure size 1000x600 with 1 Axes>"
      ]
     },
     "metadata": {},
     "output_type": "display_data"
    }
   ],
   "source": [
    "# Get feature importances from trained model (based on gain)\n",
    "importances = model_final.feature_importances_\n",
    "feature_names = X_train[selected_features].columns\n",
    "\n",
    "# Create a DataFrame for easy sorting\n",
    "feat_df = pd.DataFrame({\n",
    "    'Feature': feature_names,\n",
    "    'Importance': importances\n",
    "})\n",
    "\n",
    "# Sort and get top 10\n",
    "top_feats = feat_df.sort_values(by='Importance', ascending=False).head(10)\n",
    "\n",
    "# Plot\n",
    "plt.figure(figsize=(10, 6))\n",
    "plt.barh(top_feats['Feature'][::-1], top_feats['Importance'][::-1], color='skyblue')\n",
    "plt.xlabel(\"Feature Importance (Gain)\")\n",
    "plt.title(\"🔍 Top 10 Most Important Features\")\n",
    "plt.tight_layout()\n",
    "plt.show()"
   ]
  },
  {
   "cell_type": "markdown",
   "metadata": {},
   "source": [
    "## 1.3 Hyperparameter tuning"
   ]
  },
  {
   "cell_type": "code",
   "execution_count": 42,
   "metadata": {},
   "outputs": [],
   "source": [
    "from sklearn.model_selection import RandomizedSearchCV\n",
    "\n",
    "xgb_base = XGBClassifier(\n",
    "    eval_metric='logloss', \n",
    "    use_label_encoder=False,\n",
    "    scale_pos_weight=scale_pos_weight,\n",
    "    random_state=78\n",
    ")\n",
    "\n",
    "param_distributions = {\n",
    "    'n_estimators': [100, 200, 300],\n",
    "    'max_depth': [3, 5, 7, 9],\n",
    "    'learning_rate': [0.01, 0.05, 0.1],\n",
    "    'subsample': [0.8, 1.0],\n",
    "    'colsample_bytree': [0.5, 0.8, 1.0],\n",
    "    'gamma': [0, 1, 5],\n",
    "}\n",
    "\n",
    "random_search = RandomizedSearchCV(\n",
    "    estimator=xgb_base,\n",
    "    param_distributions=param_distributions,\n",
    "    n_iter=20,               \n",
    "    scoring='roc_auc',       \n",
    "    cv=StratifiedKFold(3),   \n",
    "    verbose=1,\n",
    "    n_jobs=-1,               \n",
    "    random_state=22          \n",
    ")\n",
    "\n",
    "X_selected = X[selected_features]\n",
    "\n",
    "X_train_selected, X_test_selected, y_train, y_test = train_test_split(X_selected, y, test_size=0.2, random_state=22)"
   ]
  },
  {
   "cell_type": "code",
   "execution_count": 43,
   "metadata": {},
   "outputs": [
    {
     "name": "stdout",
     "output_type": "stream",
     "text": [
      "Fitting 3 folds for each of 20 candidates, totalling 60 fits\n"
     ]
    },
    {
     "name": "stderr",
     "output_type": "stream",
     "text": [
      "c:\\Users\\U-ser\\anaconda3\\envs\\python_3_12_8\\Lib\\site-packages\\xgboost\\training.py:183: UserWarning: [11:49:20] WARNING: C:\\actions-runner\\_work\\xgboost\\xgboost\\src\\learner.cc:738: \n",
      "Parameters: { \"use_label_encoder\" } are not used.\n",
      "\n",
      "  bst.update(dtrain, iteration=i, fobj=obj)\n"
     ]
    },
    {
     "name": "stdout",
     "output_type": "stream",
     "text": [
      "Best score (AUC): 0.9575622338308912\n",
      "Best params: {'subsample': 0.8, 'n_estimators': 300, 'max_depth': 3, 'learning_rate': 0.05, 'gamma': 0, 'colsample_bytree': 0.5}\n"
     ]
    }
   ],
   "source": [
    "random_search.fit(X_train_selected, y_train)\n",
    "\n",
    "print(\"Best score (AUC):\", random_search.best_score_)\n",
    "print(\"Best params:\", random_search.best_params_)\n",
    "\n",
    "# Extract best model\n",
    "best_model_tree = random_search.best_estimator_"
   ]
  },
  {
   "cell_type": "code",
   "execution_count": 86,
   "metadata": {},
   "outputs": [
    {
     "name": "stdout",
     "output_type": "stream",
     "text": [
      "\n",
      "Classification Report:\n",
      "              precision    recall  f1-score   support\n",
      "\n",
      "           0       0.98      0.90      0.94     16912\n",
      "           1       0.57      0.91      0.70      2597\n",
      "\n",
      "    accuracy                           0.90     19509\n",
      "   macro avg       0.78      0.90      0.82     19509\n",
      "weighted avg       0.93      0.90      0.91     19509\n",
      "\n",
      "\n",
      "Test ROC AUC: 0.9530\n"
     ]
    },
    {
     "data": {
      "text/plain": [
       "<Axes: >"
      ]
     },
     "execution_count": 86,
     "metadata": {},
     "output_type": "execute_result"
    },
    {
     "data": {
      "image/png": "[encoded data removed]",
      "text/plain": [
       "<Figure size 640x480 with 2 Axes>"
      ]
     },
     "metadata": {},
     "output_type": "display_data"
    }
   ],
   "source": [
    "y_pred_test = best_model.predict(X_test_selected)\n",
    "y_proba_test = best_model.predict_proba(X_test_selected)[:, 1]\n",
    "\n",
    "print(\"\\nClassification Report:\")\n",
    "print(classification_report(y_test, y_pred_test))\n",
    "\n",
    "auc_test = roc_auc_score(y_test, y_proba_test)\n",
    "print(f\"\\nTest ROC AUC: {auc_test:.4f}\")\n",
    "\n",
    "# CM\n",
    "cm = confusion_matrix(y_test, y_pred_test)\n",
    "sns.heatmap(cm, annot=True, fmt='d', cmap='Blues')"
   ]
  },
  {
   "cell_type": "markdown",
   "metadata": {},
   "source": [
    "From the classification report and AUC:\n",
    "\n",
    "Class 1 (Default):\n",
    "\n",
    "Recall ≈ 0.91 means you’re catching about 91% of actual defaulters. This is good if your top priority is avoiding false negatives (i.e., not missing potential defaulters).\n",
    "\n",
    "Precision ≈ 0.57 indicates that among the loans you predict as default, 57% actually default. So have some false positives, but that might be acceptable if identifying real defaulters is more critical.\n",
    "\n",
    "Class 0 (Non-Default):\n",
    "\n",
    "The model is still doing well here, but you are occasionally labeling good loans as riskier than they are (precision for 0 is high at 0.98, but recall is 0.90, meaning some non-defaulters are flagged).\n",
    "\n",
    "AUC of 0.953 is excellent, suggesting the model does a strong job separating defaulters from non-defaulters overall."
   ]
  },
  {
   "cell_type": "markdown",
   "metadata": {},
   "source": [
    "## 1.4 Interpreting the model using SHAP"
   ]
  },
  {
   "cell_type": "code",
   "execution_count": 47,
   "metadata": {},
   "outputs": [
    {
     "data": {
      "text/plain": [
       "-0.0023752134"
      ]
     },
     "execution_count": 47,
     "metadata": {},
     "output_type": "execute_result"
    }
   ],
   "source": [
    "import shap\n",
    "\n",
    "explainer = shap.TreeExplainer(best_model_tree)\n",
    "shap_values = explainer.shap_values(X_test_selected)\n",
    "\n",
    "# Expected value = average model output (baseline)\n",
    "expected_value = explainer.expected_value\n",
    "expected_value"
   ]
  },
  {
   "cell_type": "code",
   "execution_count": null,
   "metadata": {},
   "outputs": [
    {
     "data": {
      "application/vnd.jupyter.widget-view+json": {
       "model_id": "c9337f90a9a94fe79f95b2d5f6ed267e",
       "version_major": 2,
       "version_minor": 0
      },
      "text/plain": [
       "IntSlider(value=2, description='Observation:', max=19)"
      ]
     },
     "metadata": {},
     "output_type": "display_data"
    },
    {
     "data": {
      "image/png": "[encoded data removed]",
      "text/plain": [
       "<Figure size 2000x300 with 1 Axes>"
      ]
     },
     "metadata": {},
     "output_type": "display_data"
    },
    {
     "data": {
      "text/plain": [
       "None"
      ]
     },
     "metadata": {},
     "output_type": "display_data"
    }
   ],
   "source": [
    "from IPython.display import display, clear_output\n",
    "import ipywidgets as widgets\n",
    "\n",
    "# Initialize SHAP's JavaScript visualization\n",
    "shap.initjs()\n",
    "\n",
    "# We'll allow the user to pick from the first N rows of X_test_selected\n",
    "N = 20  # or however many you want to display in your slider\n",
    "max_index = min(len(X_test_selected), N) - 1\n",
    "\n",
    "def update_shap_plot(observation_index):\n",
    "    # Clear the previous output to avoid stacking\n",
    "    clear_output(wait=True)\n",
    "    display(observation_slider)\n",
    "\n",
    "    # Force plot for the selected row\n",
    "    display(shap.force_plot(\n",
    "        base_value=expected_value,               # baseline model output\n",
    "        shap_values=shap_values[observation_index], \n",
    "        features=X_test_selected.iloc[observation_index],\n",
    "        feature_names=X_test_selected.columns,\n",
    "        matplotlib=True\n",
    "    ))\n",
    "\n",
    "# Create a slider to select the row index from 0..max_index\n",
    "observation_slider = widgets.IntSlider(\n",
    "    value=0, min=0, max=max_index, step=1,\n",
    "    description='Observation:', continuous_update=True\n",
    ")\n",
    "\n",
    "# Whenever the slider changes, update the shap plot\n",
    "def slider_changed(change):\n",
    "    if change['name'] == 'value':\n",
    "        update_shap_plot(change['new'])\n",
    "\n",
    "observation_slider.observe(slider_changed, names='value')\n",
    "\n",
    "# Display the slider, then the initial SHAP plot\n",
    "display(observation_slider)\n",
    "update_shap_plot(0)"
   ]
  },
  {
   "cell_type": "code",
   "execution_count": 50,
   "metadata": {},
   "outputs": [
    {
     "data": {
      "text/plain": [
       "['models/xgb_model_tree.pkl']"
      ]
     },
     "execution_count": 50,
     "metadata": {},
     "output_type": "execute_result"
    }
   ],
   "source": [
    "# Save the model\n",
    "import joblib\n",
    "\n",
    "joblib.dump(best_model_tree, \"models/xgb_model_tree.pkl\")"
   ]
  },
  {
   "cell_type": "code",
   "execution_count": null,
   "metadata": {},
   "outputs": [],
   "source": [
    "# Write selected features to a file and add a note\n",
    "selected_features = X_selected.columns.to_list()\n",
    "with open(\"models/selected_features_tree.txt\", \"w\") as f:\n",
    "    for item in selected_features:\n",
    "        f.write(\"%s\\n\" % item)\n",
    "    f.write(\"\\n# Features selected using XGBoost (Some of these features are in Log scale. Refer to notebook 03 for more details.)\")"
   ]
  },
  {
   "cell_type": "markdown",
   "metadata": {
    "id": "nJnU3pDAVuOe"
   },
   "source": [
    "# 2. Training a NN-based model (Challenger Model)"
   ]
  },
  {
   "cell_type": "markdown",
   "metadata": {},
   "source": [
    "## 2.1 Data Import"
   ]
  },
  {
   "cell_type": "code",
   "execution_count": null,
   "metadata": {
    "id": "D9RMsshdVuhy"
   },
   "outputs": [
    {
     "data": {
      "application/vnd.microsoft.datawrangler.viewer.v0+json": {
       "columns": [
        {
         "name": "index",
         "rawType": "int64",
         "type": "integer"
        },
        {
         "name": "loan_amnt",
         "rawType": "float64",
         "type": "float"
        },
        {
         "name": "funded_amnt",
         "rawType": "float64",
         "type": "float"
        },
        {
         "name": "funded_amnt_inv",
         "rawType": "float64",
         "type": "float"
        },
        {
         "name": "term",
         "rawType": "int64",
         "type": "integer"
        },
        {
         "name": "int_rate",
         "rawType": "float64",
         "type": "float"
        },
        {
         "name": "installment",
         "rawType": "float64",
         "type": "float"
        },
        {
         "name": "grade",
         "rawType": "int64",
         "type": "integer"
        },
        {
         "name": "home_ownership",
         "rawType": "int64",
         "type": "integer"
        },
        {
         "name": "annual_inc",
         "rawType": "float64",
         "type": "float"
        },
        {
         "name": "verification_status",
         "rawType": "int64",
         "type": "integer"
        },
        {
         "name": "purpose",
         "rawType": "int64",
         "type": "integer"
        },
        {
         "name": "dti",
         "rawType": "float64",
         "type": "float"
        },
        {
         "name": "delinq_2yrs",
         "rawType": "float64",
         "type": "float"
        },
        {
         "name": "fico_range_low",
         "rawType": "float64",
         "type": "float"
        },
        {
         "name": "fico_range_high",
         "rawType": "float64",
         "type": "float"
        },
        {
         "name": "inq_last_6mths",
         "rawType": "float64",
         "type": "float"
        },
        {
         "name": "mths_since_last_delinq",
         "rawType": "float64",
         "type": "float"
        },
        {
         "name": "open_acc",
         "rawType": "float64",
         "type": "float"
        },
        {
         "name": "pub_rec",
         "rawType": "float64",
         "type": "float"
        },
        {
         "name": "revol_bal",
         "rawType": "float64",
         "type": "float"
        },
        {
         "name": "revol_util",
         "rawType": "float64",
         "type": "float"
        },
        {
         "name": "total_acc",
         "rawType": "float64",
         "type": "float"
        },
        {
         "name": "out_prncp",
         "rawType": "float64",
         "type": "float"
        },
        {
         "name": "out_prncp_inv",
         "rawType": "float64",
         "type": "float"
        },
        {
         "name": "total_pymnt",
         "rawType": "float64",
         "type": "float"
        },
        {
         "name": "total_pymnt_inv",
         "rawType": "float64",
         "type": "float"
        },
        {
         "name": "total_rec_prncp",
         "rawType": "float64",
         "type": "float"
        },
        {
         "name": "total_rec_int",
         "rawType": "float64",
         "type": "float"
        },
        {
         "name": "total_rec_late_fee",
         "rawType": "float64",
         "type": "float"
        },
        {
         "name": "last_pymnt_amnt",
         "rawType": "float64",
         "type": "float"
        },
        {
         "name": "last_fico_range_high",
         "rawType": "float64",
         "type": "float"
        },
        {
         "name": "last_fico_range_low",
         "rawType": "float64",
         "type": "float"
        },
        {
         "name": "collections_12_mths_ex_med",
         "rawType": "float64",
         "type": "float"
        },
        {
         "name": "policy_code",
         "rawType": "float64",
         "type": "float"
        },
        {
         "name": "application_type",
         "rawType": "int64",
         "type": "integer"
        },
        {
         "name": "acc_now_delinq",
         "rawType": "float64",
         "type": "float"
        },
        {
         "name": "tot_coll_amt",
         "rawType": "float64",
         "type": "float"
        },
        {
         "name": "tot_cur_bal",
         "rawType": "float64",
         "type": "float"
        },
        {
         "name": "open_acc_6m",
         "rawType": "float64",
         "type": "float"
        },
        {
         "name": "open_act_il",
         "rawType": "float64",
         "type": "float"
        },
        {
         "name": "open_il_12m",
         "rawType": "float64",
         "type": "float"
        },
        {
         "name": "open_il_24m",
         "rawType": "float64",
         "type": "float"
        },
        {
         "name": "mths_since_rcnt_il",
         "rawType": "float64",
         "type": "float"
        },
        {
         "name": "total_bal_il",
         "rawType": "float64",
         "type": "float"
        },
        {
         "name": "il_util",
         "rawType": "float64",
         "type": "float"
        },
        {
         "name": "open_rv_12m",
         "rawType": "float64",
         "type": "float"
        },
        {
         "name": "open_rv_24m",
         "rawType": "float64",
         "type": "float"
        },
        {
         "name": "max_bal_bc",
         "rawType": "float64",
         "type": "float"
        },
        {
         "name": "all_util",
         "rawType": "float64",
         "type": "float"
        },
        {
         "name": "total_rev_hi_lim",
         "rawType": "float64",
         "type": "float"
        },
        {
         "name": "inq_fi",
         "rawType": "float64",
         "type": "float"
        },
        {
         "name": "total_cu_tl",
         "rawType": "float64",
         "type": "float"
        },
        {
         "name": "inq_last_12m",
         "rawType": "float64",
         "type": "float"
        },
        {
         "name": "acc_open_past_24mths",
         "rawType": "float64",
         "type": "float"
        },
        {
         "name": "avg_cur_bal",
         "rawType": "float64",
         "type": "float"
        },
        {
         "name": "bc_open_to_buy",
         "rawType": "float64",
         "type": "float"
        },
        {
         "name": "bc_util",
         "rawType": "float64",
         "type": "float"
        },
        {
         "name": "chargeoff_within_12_mths",
         "rawType": "float64",
         "type": "float"
        },
        {
         "name": "delinq_amnt",
         "rawType": "float64",
         "type": "float"
        },
        {
         "name": "mo_sin_old_il_acct",
         "rawType": "float64",
         "type": "float"
        },
        {
         "name": "mo_sin_old_rev_tl_op",
         "rawType": "float64",
         "type": "float"
        },
        {
         "name": "mo_sin_rcnt_rev_tl_op",
         "rawType": "float64",
         "type": "float"
        },
        {
         "name": "mo_sin_rcnt_tl",
         "rawType": "float64",
         "type": "float"
        },
        {
         "name": "mort_acc",
         "rawType": "float64",
         "type": "float"
        },
        {
         "name": "mths_since_recent_bc",
         "rawType": "float64",
         "type": "float"
        },
        {
         "name": "mths_since_recent_inq",
         "rawType": "float64",
         "type": "float"
        },
        {
         "name": "mths_since_recent_revol_delinq",
         "rawType": "float64",
         "type": "float"
        },
        {
         "name": "num_accts_ever_120_pd",
         "rawType": "float64",
         "type": "float"
        },
        {
         "name": "num_actv_bc_tl",
         "rawType": "float64",
         "type": "float"
        },
        {
         "name": "num_actv_rev_tl",
         "rawType": "float64",
         "type": "float"
        },
        {
         "name": "num_bc_sats",
         "rawType": "float64",
         "type": "float"
        },
        {
         "name": "num_bc_tl",
         "rawType": "float64",
         "type": "float"
        },
        {
         "name": "num_il_tl",
         "rawType": "float64",
         "type": "float"
        },
        {
         "name": "num_op_rev_tl",
         "rawType": "float64",
         "type": "float"
        },
        {
         "name": "num_rev_accts",
         "rawType": "float64",
         "type": "float"
        },
        {
         "name": "num_rev_tl_bal_gt_0",
         "rawType": "float64",
         "type": "float"
        },
        {
         "name": "num_sats",
         "rawType": "float64",
         "type": "float"
        },
        {
         "name": "num_tl_120dpd_2m",
         "rawType": "float64",
         "type": "float"
        },
        {
         "name": "num_tl_30dpd",
         "rawType": "float64",
         "type": "float"
        },
        {
         "name": "num_tl_90g_dpd_24m",
         "rawType": "float64",
         "type": "float"
        },
        {
         "name": "num_tl_op_past_12m",
         "rawType": "float64",
         "type": "float"
        },
        {
         "name": "pct_tl_nvr_dlq",
         "rawType": "float64",
         "type": "float"
        },
        {
         "name": "percent_bc_gt_75",
         "rawType": "float64",
         "type": "float"
        },
        {
         "name": "pub_rec_bankruptcies",
         "rawType": "float64",
         "type": "float"
        },
        {
         "name": "tax_liens",
         "rawType": "float64",
         "type": "float"
        },
        {
         "name": "tot_hi_cred_lim",
         "rawType": "float64",
         "type": "float"
        },
        {
         "name": "total_bal_ex_mort",
         "rawType": "float64",
         "type": "float"
        },
        {
         "name": "total_bc_limit",
         "rawType": "float64",
         "type": "float"
        },
        {
         "name": "total_il_high_credit_limit",
         "rawType": "float64",
         "type": "float"
        },
        {
         "name": "hardship_status",
         "rawType": "int64",
         "type": "integer"
        },
        {
         "name": "emp_length_num",
         "rawType": "float64",
         "type": "float"
        },
        {
         "name": "earliest_cr_line_days",
         "rawType": "float64",
         "type": "float"
        },
        {
         "name": "last_pymnt_d_days",
         "rawType": "float64",
         "type": "float"
        },
        {
         "name": "loan_default",
         "rawType": "int64",
         "type": "integer"
        },
        {
         "name": "mths_since_last_delinq_NA",
         "rawType": "int64",
         "type": "integer"
        },
        {
         "name": "revol_util_NA",
         "rawType": "int64",
         "type": "integer"
        },
        {
         "name": "open_acc_6m_NA",
         "rawType": "int64",
         "type": "integer"
        },
        {
         "name": "open_act_il_NA",
         "rawType": "int64",
         "type": "integer"
        },
        {
         "name": "open_il_12m_NA",
         "rawType": "int64",
         "type": "integer"
        },
        {
         "name": "open_il_24m_NA",
         "rawType": "int64",
         "type": "integer"
        },
        {
         "name": "mths_since_rcnt_il_NA",
         "rawType": "int64",
         "type": "integer"
        },
        {
         "name": "total_bal_il_NA",
         "rawType": "int64",
         "type": "integer"
        },
        {
         "name": "il_util_NA",
         "rawType": "int64",
         "type": "integer"
        },
        {
         "name": "open_rv_12m_NA",
         "rawType": "int64",
         "type": "integer"
        },
        {
         "name": "open_rv_24m_NA",
         "rawType": "int64",
         "type": "integer"
        },
        {
         "name": "max_bal_bc_NA",
         "rawType": "int64",
         "type": "integer"
        },
        {
         "name": "all_util_NA",
         "rawType": "int64",
         "type": "integer"
        },
        {
         "name": "inq_fi_NA",
         "rawType": "int64",
         "type": "integer"
        },
        {
         "name": "total_cu_tl_NA",
         "rawType": "int64",
         "type": "integer"
        },
        {
         "name": "inq_last_12m_NA",
         "rawType": "int64",
         "type": "integer"
        },
        {
         "name": "avg_cur_bal_NA",
         "rawType": "int64",
         "type": "integer"
        },
        {
         "name": "bc_open_to_buy_NA",
         "rawType": "int64",
         "type": "integer"
        },
        {
         "name": "bc_util_NA",
         "rawType": "int64",
         "type": "integer"
        },
        {
         "name": "mo_sin_old_il_acct_NA",
         "rawType": "int64",
         "type": "integer"
        },
        {
         "name": "mths_since_recent_bc_NA",
         "rawType": "int64",
         "type": "integer"
        },
        {
         "name": "mths_since_recent_inq_NA",
         "rawType": "int64",
         "type": "integer"
        },
        {
         "name": "mths_since_recent_revol_delinq_NA",
         "rawType": "int64",
         "type": "integer"
        },
        {
         "name": "num_tl_120dpd_2m_NA",
         "rawType": "int64",
         "type": "integer"
        },
        {
         "name": "pct_tl_nvr_dlq_NA",
         "rawType": "int64",
         "type": "integer"
        },
        {
         "name": "percent_bc_gt_75_NA",
         "rawType": "int64",
         "type": "integer"
        },
        {
         "name": "emp_length_num_NA",
         "rawType": "int64",
         "type": "integer"
        },
        {
         "name": "last_pymnt_d_days_NA",
         "rawType": "int64",
         "type": "integer"
        },
        {
         "name": "no_income",
         "rawType": "int64",
         "type": "integer"
        },
        {
         "name": "dti_NA",
         "rawType": "int64",
         "type": "integer"
        }
       ],
       "conversionMethod": "pd.DataFrame",
       "ref": "9072da65-1347-442c-8fb5-03e15de36fde",
       "rows": [
        [
         "0",
         "8.294299608857235",
         "8.294299608857235",
         "8.294299608857235",
         "36",
         "0.1229253468372982",
         "4.912140047347156",
         "1",
         "1",
         "10.778977123006351",
         "1",
         "3",
         "3.056356895370426",
         "1.0",
         "6.501289670540389",
         "6.507277712385012",
         "0.0",
         "2.995732273553991",
         "1.6094379124341005",
         "1.0",
         "1988.0",
         "0.6032224730319583",
         "2.5649493574615367",
         "3816.34",
         "3816.34",
         "5.590800395940859",
         "5.590800395940859",
         "5.2185162963444816",
         "4.434263234009391",
         "0.0",
         "4.912140047347156",
         "669.0",
         "665.0",
         "1.0",
         "1.0",
         "0",
         "0.0",
         "8.251403065380556",
         "12.464679861119953",
         "0.0",
         "1.0",
         "0.0",
         "1.0",
         "16.0",
         "9960.0",
         "56.0",
         "0.0",
         "0.0",
         "0.0",
         "59.0",
         "7.783640596221253",
         "1.0",
         "0.0",
         "0.0",
         "0.6931471805599453",
         "11.078397081826632",
         "8.74623928838306",
         "57.2",
         "0.0",
         "0.0",
         "179.0",
         "4.330733340286331",
         "3.6635616461296463",
         "2.833213344056216",
         "1.0986122886681098",
         "2.70805020110221",
         "2.833213344056216",
         "2.995732273553991",
         "0.6931471805599453",
         "0.0",
         "1.0986122886681098",
         "0.0",
         "0.6931471805599453",
         "1.791759469228055",
         "1.0986122886681098",
         "1.791759469228055",
         "1.0986122886681098",
         "1.6094379124341005",
         "0.0",
         "0.0",
         "0.0",
         "0.0",
         "75.0",
         "33.3",
         "0.6931471805599453",
         "0.0",
         "12.88747360859746",
         "9.388402871849754",
         "0.0",
         "9.794174792595427",
         "4",
         "10.0",
         "8.911934336161426",
         "1789.0",
         "0",
         "0",
         "0",
         "0",
         "0",
         "0",
         "0",
         "0",
         "0",
         "0",
         "0",
         "0",
         "0",
         "0",
         "0",
         "0",
         "0",
         "0",
         "1",
         "1",
         "0",
         "1",
         "0",
         "0",
         "0",
         "0",
         "1",
         "0",
         "0",
         "0",
         "0"
        ],
        [
         "1",
         "10.085850775128716",
         "10.085850775128716",
         "10.085850775128716",
         "60",
         "0.0876445098520463",
         "6.216745811883738",
         "1",
         "5",
         "10.950824090522444",
         "1",
         "1",
         "3.270708973508218",
         "0.0",
         "6.523562306149512",
         "6.529418838262226",
         "0.0",
         "3.49650756146648",
         "2.3978952727983707",
         "0.0",
         "22697.0",
         "0.4977403842173352",
         "3.218875824868201",
         "4333.29",
         "4333.29",
         "10.146322352395115",
         "10.146322352395115",
         "9.886733483660056",
         "8.670849463329757",
         "0.0",
         "6.216745811883738",
         "704.0",
         "700.0",
         "0.0",
         "1.0",
         "0",
         "0.0",
         "0.0",
         "11.03191750961342",
         "0.0",
         "3.0",
         "0.0",
         "3.0",
         "14.0",
         "39118.0",
         "72.0",
         "1.0",
         "1.0",
         "2137.0",
         "67.0",
         "10.468829770273569",
         "0.0",
         "7.0",
         "0.0",
         "1.6094379124341005",
         "8.729558869558568",
         "8.954415331137593",
         "40.5",
         "0.0",
         "0.0",
         "145.0",
         "4.927253685157205",
         "2.079441541679836",
         "2.079441541679836",
         "0.0",
         "2.079441541679836",
         "3.218875824868201",
         "3.5263605246161616",
         "0.0",
         "1.3862943611198906",
         "1.791759469228055",
         "1.791759469228055",
         "1.9459101490553128",
         "2.772588722239781",
         "2.079441541679836",
         "2.302585092994046",
         "1.791759469228055",
         "2.3978952727983707",
         "0.0",
         "0.0",
         "0.0",
         "0.6931471805599453",
         "95.8",
         "60.0",
         "0.0",
         "0.0",
         "11.38685190771486",
         "11.03191750961342",
         "9.472781556562168",
         "10.87719777527777",
         "4",
         "6.0",
         "8.956093075610639",
         "1789.0",
         "0",
         "1",
         "0",
         "0",
         "0",
         "0",
         "0",
         "0",
         "0",
         "0",
         "0",
         "0",
         "0",
         "0",
         "0",
         "0",
         "0",
         "0",
         "0",
         "0",
         "0",
         "0",
         "0",
         "1",
         "0",
         "0",
         "0",
         "0",
         "0",
         "0",
         "0"
        ],
        [
         "2",
         "8.517393171418904",
         "8.517393171418904",
         "8.517393171418904",
         "36",
         "0.0997548331369922",
         "5.0967518263873215",
         "1",
         "1",
         "10.915106645867503",
         "0",
         "1",
         "2.106570209068088",
         "0.0",
         "6.501289670540389",
         "6.507277712385012",
         "0.0",
         "3.49650756146648",
         "2.079441541679836",
         "1.0",
         "6001.0",
         "0.4226499328622652",
         "2.302585092994046",
         "0.0",
         "0.0",
         "8.673799055340961",
         "8.673798570288843",
         "8.517393171418904",
         "6.742491409109628",
         "0.0",
         "5.096384764104966",
         "789.0",
         "785.0",
         "0.0",
         "1.0",
         "0",
         "0.0",
         "0.0",
         "11.9774893254656",
         "1.0",
         "2.0",
         "0.0",
         "1.0",
         "13.0",
         "24095.5",
         "72.0",
         "1.0",
         "2.0",
         "4569.0",
         "57.0",
         "9.34145634983372",
         "1.0",
         "0.0",
         "1.0",
         "1.6094379124341005",
         "10.031616880246656",
         "8.416709652837914",
         "54.8",
         "0.0",
         "0.0",
         "57.0",
         "4.060443010546419",
         "2.70805020110221",
         "2.302585092994046",
         "0.6931471805599453",
         "2.70805020110221",
         "0.6931471805599453",
         "3.5263605246161616",
         "0.0",
         "1.3862943611198906",
         "1.791759469228055",
         "1.3862943611198906",
         "1.3862943611198906",
         "1.0986122886681098",
         "1.791759469228055",
         "1.9459101490553128",
         "1.791759469228055",
         "2.079441541679836",
         "0.0",
         "0.0",
         "0.0",
         "0.6931471805599453",
         "100.0",
         "33.3",
         "0.0",
         "1.0",
         "12.050114499886943",
         "9.482274087459825",
         "9.210440366976515",
         "8.926251835034533",
         "4",
         "10.0",
         "8.607582191143917",
         "2640.0",
         "0",
         "1",
         "0",
         "1",
         "1",
         "1",
         "1",
         "1",
         "1",
         "1",
         "1",
         "1",
         "1",
         "1",
         "1",
         "1",
         "1",
         "0",
         "0",
         "0",
         "0",
         "0",
         "0",
         "1",
         "0",
         "0",
         "0",
         "0",
         "0",
         "0",
         "0"
        ],
        [
         "3",
         "10.085850775128716",
         "10.085850775128716",
         "10.085850775128716",
         "60",
         "0.104810364352345",
         "6.260384201058775",
         "1",
         "1",
         "10.680539205318292",
         "0",
         "2",
         "3.2406373166497136",
         "0.0",
         "6.621405651764134",
         "6.626717749249025",
         "0.0",
         "3.49650756146648",
         "2.772588722239781",
         "0.0",
         "6573.0",
         "0.1142211440900228",
         "3.1780538303479458",
         "16317.69",
         "16317.69",
         "9.392822749171176",
         "9.392822749171176",
         "8.946805722875718",
         "8.370922714406225",
         "0.0",
         "6.260384201058775",
         "749.0",
         "745.0",
         "0.0",
         "1.0",
         "0",
         "0.0",
         "0.0",
         "11.55781278484612",
         "2.0",
         "1.0",
         "0.0",
         "1.0",
         "17.0",
         "11947.0",
         "60.0",
         "2.0",
         "3.0",
         "2223.0",
         "25.0",
         "10.905974329106854",
         "2.0",
         "0.0",
         "2.0",
         "1.6094379124341005",
         "8.849944227235596",
         "10.672229100017557",
         "12.0",
         "0.0",
         "0.0",
         "37.0",
         "4.890349128221754",
         "0.6931471805599453",
         "0.6931471805599453",
         "1.0986122886681098",
         "0.6931471805599453",
         "1.3862943611198906",
         "3.5263605246161616",
         "0.6931471805599453",
         "1.9459101490553128",
         "2.079441541679836",
         "2.4849066497880004",
         "2.833213344056216",
         "1.0986122886681098",
         "2.6390573296152584",
         "2.995732273553991",
         "2.079441541679836",
         "2.772588722239781",
         "0.0",
         "0.0",
         "0.0",
         "1.0986122886681098",
         "95.7",
         "0.0",
         "0.0",
         "0.0",
         "12.219023421038946",
         "9.826660502422802",
         "10.799595985047786",
         "9.90353755128617",
         "4",
         "6.0",
         "8.870101048785726",
         "1789.0",
         "0",
         "1",
         "0",
         "0",
         "0",
         "0",
         "0",
         "0",
         "0",
         "0",
         "0",
         "0",
         "0",
         "0",
         "0",
         "0",
         "0",
         "0",
         "0",
         "0",
         "0",
         "0",
         "0",
         "1",
         "0",
         "0",
         "0",
         "1",
         "0",
         "0",
         "0"
        ],
        [
         "4",
         "9.546884034617923",
         "9.546884034617923",
         "9.546884034617923",
         "60",
         "0.1274252882552388",
         "5.7800951575053645",
         "2",
         "1",
         "10.778977123006351",
         "1",
         "2",
         "3.2308043957334744",
         "0.0",
         "6.601230118728877",
         "6.606650186198215",
         "1.0",
         "3.49650756146648",
         "2.833213344056216",
         "0.0",
         "11894.0",
         "0.239803992207317",
         "3.1780538303479458",
         "0.0",
         "0.0",
         "9.717560303038145",
         "9.717560303038145",
         "9.546884034617923",
         "7.865832659947679",
         "0.0",
         "9.317383271632076",
         "779.0",
         "775.0",
         "0.0",
         "1.0",
         "0",
         "0.0",
         "0.0",
         "11.410383196542606",
         "2.0",
         "2.0",
         "1.0",
         "1.0",
         "7.0",
         "22953.0",
         "60.0",
         "3.0",
         "4.0",
         "3907.0",
         "43.0",
         "10.689692377847104",
         "1.0",
         "0.0",
         "2.0",
         "1.791759469228055",
         "8.637993891561942",
         "9.759559443729044",
         "39.9",
         "0.0",
         "0.0",
         "72.0",
         "4.770684624465665",
         "1.9459101490553128",
         "1.9459101490553128",
         "1.0986122886681098",
         "1.9459101490553128",
         "1.791759469228055",
         "3.5263605246161616",
         "0.0",
         "1.6094379124341005",
         "1.791759469228055",
         "1.791759469228055",
         "1.9459101490553128",
         "1.791759469228055",
         "2.6390573296152584",
         "2.833213344056216",
         "1.791759469228055",
         "2.833213344056216",
         "0.0",
         "0.0",
         "0.0",
         "1.6094379124341005",
         "100.0",
         "0.0",
         "0.0",
         "0.0",
         "11.932175128049009",
         "10.458751025732688",
         "10.268165387743457",
         "10.550119479354604",
         "4",
         "10.0",
         "8.732788324973118",
         "2094.0",
         "0",
         "1",
         "0",
         "0",
         "0",
         "0",
         "0",
         "0",
         "0",
         "0",
         "0",
         "0",
         "0",
         "0",
         "0",
         "0",
         "0",
         "0",
         "0",
         "0",
         "0",
         "0",
         "0",
         "1",
         "0",
         "0",
         "0",
         "0",
         "0",
         "0",
         "0"
        ]
       ],
       "shape": {
        "columns": 124,
        "rows": 5
       }
      },
      "text/html": [
       "<div>\n",
       "<style scoped>\n",
       "    .dataframe tbody tr th:only-of-type {\n",
       "        vertical-align: middle;\n",
       "    }\n",
       "\n",
       "    .dataframe tbody tr th {\n",
       "        vertical-align: top;\n",
       "    }\n",
       "\n",
       "    .dataframe thead th {\n",
       "        text-align: right;\n",
       "    }\n",
       "</style>\n",
       "<table border=\"1\" class=\"dataframe\">\n",
       "  <thead>\n",
       "    <tr style=\"text-align: right;\">\n",
       "      <th></th>\n",
       "      <th>loan_amnt</th>\n",
       "      <th>funded_amnt</th>\n",
       "      <th>funded_amnt_inv</th>\n",
       "      <th>term</th>\n",
       "      <th>int_rate</th>\n",
       "      <th>installment</th>\n",
       "      <th>grade</th>\n",
       "      <th>home_ownership</th>\n",
       "      <th>annual_inc</th>\n",
       "      <th>verification_status</th>\n",
       "      <th>...</th>\n",
       "      <th>mths_since_recent_bc_NA</th>\n",
       "      <th>mths_since_recent_inq_NA</th>\n",
       "      <th>mths_since_recent_revol_delinq_NA</th>\n",
       "      <th>num_tl_120dpd_2m_NA</th>\n",
       "      <th>pct_tl_nvr_dlq_NA</th>\n",
       "      <th>percent_bc_gt_75_NA</th>\n",
       "      <th>emp_length_num_NA</th>\n",
       "      <th>last_pymnt_d_days_NA</th>\n",
       "      <th>no_income</th>\n",
       "      <th>dti_NA</th>\n",
       "    </tr>\n",
       "  </thead>\n",
       "  <tbody>\n",
       "    <tr>\n",
       "      <th>0</th>\n",
       "      <td>8.294300</td>\n",
       "      <td>8.294300</td>\n",
       "      <td>8.294300</td>\n",
       "      <td>36</td>\n",
       "      <td>0.122925</td>\n",
       "      <td>4.912140</td>\n",
       "      <td>1</td>\n",
       "      <td>1</td>\n",
       "      <td>10.778977</td>\n",
       "      <td>1</td>\n",
       "      <td>...</td>\n",
       "      <td>1</td>\n",
       "      <td>0</td>\n",
       "      <td>0</td>\n",
       "      <td>0</td>\n",
       "      <td>0</td>\n",
       "      <td>1</td>\n",
       "      <td>0</td>\n",
       "      <td>0</td>\n",
       "      <td>0</td>\n",
       "      <td>0</td>\n",
       "    </tr>\n",
       "    <tr>\n",
       "      <th>1</th>\n",
       "      <td>10.085851</td>\n",
       "      <td>10.085851</td>\n",
       "      <td>10.085851</td>\n",
       "      <td>60</td>\n",
       "      <td>0.087645</td>\n",
       "      <td>6.216746</td>\n",
       "      <td>1</td>\n",
       "      <td>5</td>\n",
       "      <td>10.950824</td>\n",
       "      <td>1</td>\n",
       "      <td>...</td>\n",
       "      <td>0</td>\n",
       "      <td>0</td>\n",
       "      <td>1</td>\n",
       "      <td>0</td>\n",
       "      <td>0</td>\n",
       "      <td>0</td>\n",
       "      <td>0</td>\n",
       "      <td>0</td>\n",
       "      <td>0</td>\n",
       "      <td>0</td>\n",
       "    </tr>\n",
       "    <tr>\n",
       "      <th>2</th>\n",
       "      <td>8.517393</td>\n",
       "      <td>8.517393</td>\n",
       "      <td>8.517393</td>\n",
       "      <td>36</td>\n",
       "      <td>0.099755</td>\n",
       "      <td>5.096752</td>\n",
       "      <td>1</td>\n",
       "      <td>1</td>\n",
       "      <td>10.915107</td>\n",
       "      <td>0</td>\n",
       "      <td>...</td>\n",
       "      <td>0</td>\n",
       "      <td>0</td>\n",
       "      <td>1</td>\n",
       "      <td>0</td>\n",
       "      <td>0</td>\n",
       "      <td>0</td>\n",
       "      <td>0</td>\n",
       "      <td>0</td>\n",
       "      <td>0</td>\n",
       "      <td>0</td>\n",
       "    </tr>\n",
       "    <tr>\n",
       "      <th>3</th>\n",
       "      <td>10.085851</td>\n",
       "      <td>10.085851</td>\n",
       "      <td>10.085851</td>\n",
       "      <td>60</td>\n",
       "      <td>0.104810</td>\n",
       "      <td>6.260384</td>\n",
       "      <td>1</td>\n",
       "      <td>1</td>\n",
       "      <td>10.680539</td>\n",
       "      <td>0</td>\n",
       "      <td>...</td>\n",
       "      <td>0</td>\n",
       "      <td>0</td>\n",
       "      <td>1</td>\n",
       "      <td>0</td>\n",
       "      <td>0</td>\n",
       "      <td>0</td>\n",
       "      <td>1</td>\n",
       "      <td>0</td>\n",
       "      <td>0</td>\n",
       "      <td>0</td>\n",
       "    </tr>\n",
       "    <tr>\n",
       "      <th>4</th>\n",
       "      <td>9.546884</td>\n",
       "      <td>9.546884</td>\n",
       "      <td>9.546884</td>\n",
       "      <td>60</td>\n",
       "      <td>0.127425</td>\n",
       "      <td>5.780095</td>\n",
       "      <td>2</td>\n",
       "      <td>1</td>\n",
       "      <td>10.778977</td>\n",
       "      <td>1</td>\n",
       "      <td>...</td>\n",
       "      <td>0</td>\n",
       "      <td>0</td>\n",
       "      <td>1</td>\n",
       "      <td>0</td>\n",
       "      <td>0</td>\n",
       "      <td>0</td>\n",
       "      <td>0</td>\n",
       "      <td>0</td>\n",
       "      <td>0</td>\n",
       "      <td>0</td>\n",
       "    </tr>\n",
       "  </tbody>\n",
       "</table>\n",
       "<p>5 rows × 124 columns</p>\n",
       "</div>"
      ],
      "text/plain": [
       "   loan_amnt  funded_amnt  funded_amnt_inv  term  int_rate  installment  \\\n",
       "0   8.294300     8.294300         8.294300    36  0.122925     4.912140   \n",
       "1  10.085851    10.085851        10.085851    60  0.087645     6.216746   \n",
       "2   8.517393     8.517393         8.517393    36  0.099755     5.096752   \n",
       "3  10.085851    10.085851        10.085851    60  0.104810     6.260384   \n",
       "4   9.546884     9.546884         9.546884    60  0.127425     5.780095   \n",
       "\n",
       "   grade  home_ownership  annual_inc  verification_status  ...  \\\n",
       "0      1               1   10.778977                    1  ...   \n",
       "1      1               5   10.950824                    1  ...   \n",
       "2      1               1   10.915107                    0  ...   \n",
       "3      1               1   10.680539                    0  ...   \n",
       "4      2               1   10.778977                    1  ...   \n",
       "\n",
       "   mths_since_recent_bc_NA  mths_since_recent_inq_NA  \\\n",
       "0                        1                         0   \n",
       "1                        0                         0   \n",
       "2                        0                         0   \n",
       "3                        0                         0   \n",
       "4                        0                         0   \n",
       "\n",
       "   mths_since_recent_revol_delinq_NA  num_tl_120dpd_2m_NA  pct_tl_nvr_dlq_NA  \\\n",
       "0                                  0                    0                  0   \n",
       "1                                  1                    0                  0   \n",
       "2                                  1                    0                  0   \n",
       "3                                  1                    0                  0   \n",
       "4                                  1                    0                  0   \n",
       "\n",
       "   percent_bc_gt_75_NA  emp_length_num_NA  last_pymnt_d_days_NA  no_income  \\\n",
       "0                    1                  0                     0          0   \n",
       "1                    0                  0                     0          0   \n",
       "2                    0                  0                     0          0   \n",
       "3                    0                  1                     0          0   \n",
       "4                    0                  0                     0          0   \n",
       "\n",
       "   dti_NA  \n",
       "0       0  \n",
       "1       0  \n",
       "2       0  \n",
       "3       0  \n",
       "4       0  \n",
       "\n",
       "[5 rows x 124 columns]"
      ]
     },
     "execution_count": 65,
     "metadata": {},
     "output_type": "execute_result"
    }
   ],
   "source": [
    "import tensorflow as tf\n",
    "from tensorflow import keras\n",
    "from tensorflow.keras import Sequential\n",
    "from tensorflow.keras.layers import Dense\n",
    "from tensorflow.keras.regularizers import l2\n",
    "from tensorflow.keras.optimizers.schedules import ExponentialDecay\n",
    "from tensorflow.keras.optimizers import AdamW\n",
    "from tensorflow.keras.callbacks import EarlyStopping\n",
    "from sklearn.preprocessing import StandardScaler, Normalizer, MinMaxScaler\n",
    "\n",
    "df_nn = pd.read_csv(\"../data/2-intermediate/df_out_dsif3_nn.csv\")\n",
    "df_nn.head()"
   ]
  },
  {
   "cell_type": "code",
   "execution_count": 66,
   "metadata": {
    "id": "_gd39w9YQryr"
   },
   "outputs": [],
   "source": [
    "# Adding columns with data leakage\n",
    "leakage_cols.append('last_pymnt_d_days_NA')\n",
    "\n",
    "# Remove columns with data leakage\n",
    "df_nn.drop(columns=leakage_cols, inplace=True, errors='ignore')\n",
    "\n",
    "# Split data\n",
    "X = df_nn.drop('loan_default', axis=1)\n",
    "y = df_nn['loan_default']\n",
    "\n",
    "# Scale data\n",
    "scaler = MinMaxScaler()\n",
    "X_scaled_array = scaler.fit_transform(X)\n",
    "X_scaled = pd.DataFrame(X_scaled_array, columns=X.columns)\n"
   ]
  },
  {
   "cell_type": "markdown",
   "metadata": {},
   "source": [
    "## 2.2 Feature Selection using XGBoost top 20 important features."
   ]
  },
  {
   "cell_type": "code",
   "execution_count": 67,
   "metadata": {},
   "outputs": [
    {
     "name": "stderr",
     "output_type": "stream",
     "text": [
      "c:\\Users\\U-ser\\anaconda3\\envs\\python_3_12_8\\Lib\\site-packages\\xgboost\\training.py:183: UserWarning: [12:34:07] WARNING: C:\\actions-runner\\_work\\xgboost\\xgboost\\src\\learner.cc:738: \n",
      "Parameters: { \"use_label_encoder\" } are not used.\n",
      "\n",
      "  bst.update(dtrain, iteration=i, fobj=obj)\n"
     ]
    },
    {
     "name": "stdout",
     "output_type": "stream",
     "text": [
      "                     Feature  Importance\n",
      "0       last_fico_range_high    0.302113\n",
      "1                       term    0.059180\n",
      "2             open_acc_6m_NA    0.056474\n",
      "3            hardship_status    0.042527\n",
      "4                  loan_amnt    0.019453\n",
      "5          emp_length_num_NA    0.015314\n",
      "6                      grade    0.013809\n",
      "7      mths_since_rcnt_il_NA    0.011184\n",
      "8       pub_rec_bankruptcies    0.009627\n",
      "9                 il_util_NA    0.009587\n",
      "10               installment    0.009225\n",
      "11            pct_tl_nvr_dlq    0.008704\n",
      "12     earliest_cr_line_days    0.008549\n",
      "13  mths_since_recent_inq_NA    0.008503\n",
      "14            fico_range_low    0.007918\n",
      "15          application_type    0.007847\n",
      "16       num_rev_tl_bal_gt_0    0.007846\n",
      "17                annual_inc    0.007629\n",
      "18       num_tl_120dpd_2m_NA    0.007582\n",
      "19                       dti    0.007580\n"
     ]
    }
   ],
   "source": [
    "X_train, X_test, y_train, y_test = train_test_split(X_scaled, y, test_size=0.2, random_state=22)\n",
    "\n",
    "xgb_model = XGBClassifier(\n",
    "    eval_metric='logloss',\n",
    "    use_label_encoder=False,\n",
    "    random_state=42\n",
    ")\n",
    "xgb_model.fit(X_train, y_train)\n",
    "\n",
    "importances = xgb_model.feature_importances_\n",
    "feature_names = X.columns\n",
    "\n",
    "# Pair features with their importance\n",
    "feature_importance_df = pd.DataFrame({\n",
    "    'Feature': feature_names,\n",
    "    'Importance': importances\n",
    "})\n",
    "\n",
    "# Sort by descending importance\n",
    "feature_importance_df.sort_values(by='Importance', ascending=False, inplace=True)\n",
    "feature_importance_df.reset_index(drop=True, inplace=True)\n",
    "\n",
    "# Show top 20\n",
    "print(feature_importance_df.head(20))"
   ]
  },
  {
   "cell_type": "code",
   "execution_count": 68,
   "metadata": {},
   "outputs": [
    {
     "name": "stdout",
     "output_type": "stream",
     "text": [
      "Selected top 20 features:\n",
      " ['last_fico_range_high', 'term', 'open_acc_6m_NA', 'hardship_status', 'loan_amnt', 'emp_length_num_NA', 'grade', 'mths_since_rcnt_il_NA', 'pub_rec_bankruptcies', 'il_util_NA', 'installment', 'pct_tl_nvr_dlq', 'earliest_cr_line_days', 'mths_since_recent_inq_NA', 'fico_range_low', 'application_type', 'num_rev_tl_bal_gt_0', 'annual_inc', 'num_tl_120dpd_2m_NA', 'dti']\n"
     ]
    }
   ],
   "source": [
    "N = 20\n",
    "top_features = feature_importance_df['Feature'].head(N).tolist()\n",
    "print(f\"Selected top {N} features:\\n\", top_features)"
   ]
  },
  {
   "cell_type": "markdown",
   "metadata": {},
   "source": [
    "## 2.3 Model Training"
   ]
  },
  {
   "cell_type": "code",
   "execution_count": 70,
   "metadata": {},
   "outputs": [],
   "source": [
    "X_reduced = X[top_features]\n",
    "\n",
    "X_train, X_test, y_train, y_test = train_test_split(\n",
    "    X_reduced, \n",
    "    y, \n",
    "    test_size=0.2, \n",
    "    random_state=22\n",
    ")"
   ]
  },
  {
   "cell_type": "code",
   "execution_count": 71,
   "metadata": {},
   "outputs": [],
   "source": [
    "# Smote\n",
    "from imblearn.over_sampling import SMOTE\n",
    "\n",
    "# Initialize SMOTE\n",
    "smote = SMOTE(random_state=123)\n",
    "\n",
    "X_train_smote, y_train_smote = smote.fit_resample(X_train, y_train)\n",
    "\n",
    "scaler = MinMaxScaler()\n",
    "X_train_smote_array = scaler.fit_transform(X_train_smote)\n",
    "X_test_array = scaler.transform(X_test)\n",
    "\n",
    "# Convert back to DataFrame if you need column names\n",
    "X_train_smote_scaled = pd.DataFrame(X_train_smote_array, columns=X_train.columns)\n",
    "X_test_scaled = pd.DataFrame(X_test_array, columns=X_train.columns)\n"
   ]
  },
  {
   "cell_type": "code",
   "execution_count": 79,
   "metadata": {},
   "outputs": [],
   "source": [
    "# NN model - Feedforward Neural Network with l2 reg and additional layers\n",
    "def build_and_train_nn(\n",
    "    X_train, y_train,\n",
    "    X_val, y_val,\n",
    "    input_dim=None,          # In case you want to override\n",
    "    lambda_l2=0.001,\n",
    "    initial_lr=0.001,\n",
    "    final_lr=1e-6,\n",
    "    epochs=50,\n",
    "    batch_size=32,\n",
    "    patience=5\n",
    "):\n",
    "    \"\"\"\n",
    "    Builds and trains a 3-layer feedforward neural network\n",
    "    with L2 regularization, exponential LR decay, early stopping,\n",
    "    and binary crossentropy loss.\n",
    "\n",
    "    Returns:\n",
    "      model, history\n",
    "    \"\"\"\n",
    "    # If no input_dim provided, infer from X_train\n",
    "    if input_dim is None:\n",
    "        input_dim = X_train.shape[1]\n",
    "\n",
    "    # Learning rate schedule\n",
    "    steps_per_epoch = int(len(X_train) / batch_size)\n",
    "    learning_rate_decay_factor = (final_lr / initial_lr)**(1/50)\n",
    "    lr_schedule = keras.optimizers.schedules.ExponentialDecay(\n",
    "        initial_learning_rate=initial_lr,\n",
    "        decay_steps=steps_per_epoch,\n",
    "        decay_rate=learning_rate_decay_factor,\n",
    "        staircase=True\n",
    "    )\n",
    "    opt = keras.optimizers.AdamW(learning_rate=lr_schedule)\n",
    "    \n",
    "    # Build the model\n",
    "    model = Sequential()\n",
    "    model.add(Dense(128, input_dim=input_dim, activation='relu', kernel_regularizer=l2(lambda_l2)))\n",
    "    model.add(Dense(32, activation='relu', kernel_regularizer=l2(lambda_l2)))\n",
    "    model.add(Dense(16, activation='relu', kernel_regularizer=l2(lambda_l2)))\n",
    "    model.add(Dense(1, activation='sigmoid'))\n",
    "    \n",
    "    # Compile with binary crossentropy and relevant metrics\n",
    "    model.compile(\n",
    "        optimizer=opt,\n",
    "        loss='binary_crossentropy',\n",
    "        metrics=['accuracy', 'Precision', 'Recall', 'AUC']\n",
    "    )\n",
    "\n",
    "    # Early stopping: monitor precision on validation set\n",
    "    early_stopping = EarlyStopping(\n",
    "        monitor='val_precision',\n",
    "        mode='max',\n",
    "        patience=patience,\n",
    "        restore_best_weights=True\n",
    "    )\n",
    "    \n",
    "    # Fit the model\n",
    "    history = model.fit(\n",
    "        X_train, y_train,\n",
    "        validation_data=(X_val, y_val),\n",
    "        epochs=epochs,\n",
    "        batch_size=batch_size,\n",
    "        callbacks=[early_stopping],\n",
    "        verbose=1\n",
    "    )\n",
    "    \n",
    "    return model, history"
   ]
  },
  {
   "cell_type": "code",
   "execution_count": null,
   "metadata": {},
   "outputs": [
    {
     "name": "stdout",
     "output_type": "stream",
     "text": [
      "Epoch 1/50\n"
     ]
    },
    {
     "name": "stderr",
     "output_type": "stream",
     "text": [
      "c:\\Users\\U-ser\\anaconda3\\envs\\python_3_12_8\\Lib\\site-packages\\keras\\src\\layers\\core\\dense.py:87: UserWarning: Do not pass an `input_shape`/`input_dim` argument to a layer. When using Sequential models, prefer using an `Input(shape)` object as the first layer in the model instead.\n",
      "  super().__init__(activity_regularizer=activity_regularizer, **kwargs)\n"
     ]
    },
    {
     "name": "stdout",
     "output_type": "stream",
     "text": [
      "\u001b[1m2439/2439\u001b[0m \u001b[32m━━━━━━━━━━━━━━━━━━━━\u001b[0m\u001b[37m\u001b[0m \u001b[1m4s\u001b[0m 1ms/step - AUC: 0.8769 - Precision: 0.6420 - Recall: 0.5068 - accuracy: 0.9003 - loss: 0.2998 - val_AUC: 0.9383 - val_Precision: 0.8031 - val_Recall: 0.4617 - val_accuracy: 0.9133 - val_loss: 0.2081\n",
      "Epoch 2/50\n",
      "\u001b[1m 182/2439\u001b[0m \u001b[32m━\u001b[0m\u001b[37m━━━━━━━━━━━━━━━━━━━\u001b[0m \u001b[1m1s\u001b[0m 836us/step - AUC: 0.9252 - Precision: 0.7443 - Recall: 0.5018 - accuracy: 0.9195 - loss: 0.2091"
     ]
    },
    {
     "name": "stderr",
     "output_type": "stream",
     "text": [
      "c:\\Users\\U-ser\\anaconda3\\envs\\python_3_12_8\\Lib\\site-packages\\keras\\src\\callbacks\\early_stopping.py:153: UserWarning: Early stopping conditioned on metric `val_precision` which is not available. Available metrics are: AUC,Precision,Recall,accuracy,loss,val_AUC,val_Precision,val_Recall,val_accuracy,val_loss\n",
      "  current = self.get_monitor_value(logs)\n"
     ]
    },
    {
     "name": "stdout",
     "output_type": "stream",
     "text": [
      "\u001b[1m2439/2439\u001b[0m \u001b[32m━━━━━━━━━━━━━━━━━━━━\u001b[0m\u001b[37m\u001b[0m \u001b[1m3s\u001b[0m 1ms/step - AUC: 0.9319 - Precision: 0.7412 - Recall: 0.5649 - accuracy: 0.9194 - loss: 0.2051 - val_AUC: 0.9366 - val_Precision: 0.7329 - val_Recall: 0.6465 - val_accuracy: 0.9216 - val_loss: 0.2035\n",
      "Epoch 3/50\n",
      "\u001b[1m2439/2439\u001b[0m \u001b[32m━━━━━━━━━━━━━━━━━━━━\u001b[0m\u001b[37m\u001b[0m \u001b[1m3s\u001b[0m 1ms/step - AUC: 0.9362 - Precision: 0.7194 - Recall: 0.5997 - accuracy: 0.9197 - loss: 0.1989 - val_AUC: 0.9414 - val_Precision: 0.7262 - val_Recall: 0.6904 - val_accuracy: 0.9241 - val_loss: 0.1953\n",
      "Epoch 4/50\n",
      "\u001b[1m2439/2439\u001b[0m \u001b[32m━━━━━━━━━━━━━━━━━━━━\u001b[0m\u001b[37m\u001b[0m \u001b[1m3s\u001b[0m 1ms/step - AUC: 0.9412 - Precision: 0.7218 - Recall: 0.6399 - accuracy: 0.9226 - loss: 0.1934 - val_AUC: 0.9406 - val_Precision: 0.8183 - val_Recall: 0.3935 - val_accuracy: 0.9076 - val_loss: 0.2453\n",
      "Epoch 5/50\n",
      "\u001b[1m2439/2439\u001b[0m \u001b[32m━━━━━━━━━━━━━━━━━━━━\u001b[0m\u001b[37m\u001b[0m \u001b[1m3s\u001b[0m 1ms/step - AUC: 0.9459 - Precision: 0.7270 - Recall: 0.6563 - accuracy: 0.9233 - loss: 0.1892 - val_AUC: 0.9442 - val_Precision: 0.7557 - val_Recall: 0.6122 - val_accuracy: 0.9220 - val_loss: 0.1938\n",
      "Epoch 6/50\n",
      "\u001b[1m2439/2439\u001b[0m \u001b[32m━━━━━━━━━━━━━━━━━━━━\u001b[0m\u001b[37m\u001b[0m \u001b[1m3s\u001b[0m 1ms/step - AUC: 0.9480 - Precision: 0.7323 - Recall: 0.6762 - accuracy: 0.9264 - loss: 0.1840 - val_AUC: 0.9444 - val_Precision: 0.7973 - val_Recall: 0.5075 - val_accuracy: 0.9173 - val_loss: 0.2077\n",
      "Epoch 7/50\n",
      "\u001b[1m2439/2439\u001b[0m \u001b[32m━━━━━━━━━━━━━━━━━━━━\u001b[0m\u001b[37m\u001b[0m \u001b[1m2s\u001b[0m 1ms/step - AUC: 0.9464 - Precision: 0.7265 - Recall: 0.6626 - accuracy: 0.9250 - loss: 0.1854 - val_AUC: 0.9454 - val_Precision: 0.7497 - val_Recall: 0.6377 - val_accuracy: 0.9234 - val_loss: 0.1888\n",
      "Epoch 8/50\n",
      "\u001b[1m2439/2439\u001b[0m \u001b[32m━━━━━━━━━━━━━━━━━━━━\u001b[0m\u001b[37m\u001b[0m \u001b[1m3s\u001b[0m 1ms/step - AUC: 0.9488 - Precision: 0.7257 - Recall: 0.6742 - accuracy: 0.9250 - loss: 0.1833 - val_AUC: 0.9454 - val_Precision: 0.7644 - val_Recall: 0.6045 - val_accuracy: 0.9225 - val_loss: 0.1914\n",
      "Epoch 9/50\n",
      "\u001b[1m2439/2439\u001b[0m \u001b[32m━━━━━━━━━━━━━━━━━━━━\u001b[0m\u001b[37m\u001b[0m \u001b[1m3s\u001b[0m 1ms/step - AUC: 0.9483 - Precision: 0.7247 - Recall: 0.6771 - accuracy: 0.9261 - loss: 0.1818 - val_AUC: 0.9457 - val_Precision: 0.6909 - val_Recall: 0.7720 - val_accuracy: 0.9237 - val_loss: 0.1949\n",
      "Epoch 10/50\n",
      "\u001b[1m2439/2439\u001b[0m \u001b[32m━━━━━━━━━━━━━━━━━━━━\u001b[0m\u001b[37m\u001b[0m \u001b[1m3s\u001b[0m 1ms/step - AUC: 0.9516 - Precision: 0.7325 - Recall: 0.6950 - accuracy: 0.9287 - loss: 0.1766 - val_AUC: 0.9460 - val_Precision: 0.7291 - val_Recall: 0.6954 - val_accuracy: 0.9251 - val_loss: 0.1872\n",
      "Epoch 11/50\n",
      "\u001b[1m2439/2439\u001b[0m \u001b[32m━━━━━━━━━━━━━━━━━━━━\u001b[0m\u001b[37m\u001b[0m \u001b[1m3s\u001b[0m 1ms/step - AUC: 0.9515 - Precision: 0.7220 - Recall: 0.6822 - accuracy: 0.9264 - loss: 0.1777 - val_AUC: 0.9445 - val_Precision: 0.7974 - val_Recall: 0.5106 - val_accuracy: 0.9176 - val_loss: 0.2117\n",
      "Epoch 12/50\n",
      "\u001b[1m2439/2439\u001b[0m \u001b[32m━━━━━━━━━━━━━━━━━━━━\u001b[0m\u001b[37m\u001b[0m \u001b[1m3s\u001b[0m 1ms/step - AUC: 0.9508 - Precision: 0.7312 - Recall: 0.6879 - accuracy: 0.9284 - loss: 0.1768 - val_AUC: 0.9464 - val_Precision: 0.7070 - val_Recall: 0.7489 - val_accuracy: 0.9253 - val_loss: 0.1890\n",
      "Epoch 13/50\n",
      "\u001b[1m2439/2439\u001b[0m \u001b[32m━━━━━━━━━━━━━━━━━━━━\u001b[0m\u001b[37m\u001b[0m \u001b[1m3s\u001b[0m 1ms/step - AUC: 0.9516 - Precision: 0.7205 - Recall: 0.7026 - accuracy: 0.9273 - loss: 0.1775 - val_AUC: 0.9463 - val_Precision: 0.7380 - val_Recall: 0.6746 - val_accuracy: 0.9248 - val_loss: 0.1858\n",
      "Epoch 14/50\n",
      "\u001b[1m2439/2439\u001b[0m \u001b[32m━━━━━━━━━━━━━━━━━━━━\u001b[0m\u001b[37m\u001b[0m \u001b[1m3s\u001b[0m 1ms/step - AUC: 0.9510 - Precision: 0.7274 - Recall: 0.6968 - accuracy: 0.9283 - loss: 0.1770 - val_AUC: 0.9462 - val_Precision: 0.7254 - val_Recall: 0.7070 - val_accuracy: 0.9254 - val_loss: 0.1853\n",
      "Epoch 15/50\n",
      "\u001b[1m2439/2439\u001b[0m \u001b[32m━━━━━━━━━━━━━━━━━━━━\u001b[0m\u001b[37m\u001b[0m \u001b[1m3s\u001b[0m 1ms/step - AUC: 0.9509 - Precision: 0.7217 - Recall: 0.6994 - accuracy: 0.9273 - loss: 0.1780 - val_AUC: 0.9464 - val_Precision: 0.7301 - val_Recall: 0.6946 - val_accuracy: 0.9252 - val_loss: 0.1849\n",
      "Epoch 16/50\n",
      "\u001b[1m2439/2439\u001b[0m \u001b[32m━━━━━━━━━━━━━━━━━━━━\u001b[0m\u001b[37m\u001b[0m \u001b[1m3s\u001b[0m 1ms/step - AUC: 0.9527 - Precision: 0.7254 - Recall: 0.6977 - accuracy: 0.9284 - loss: 0.1741 - val_AUC: 0.9467 - val_Precision: 0.7426 - val_Recall: 0.6688 - val_accuracy: 0.9251 - val_loss: 0.1856\n",
      "Epoch 17/50\n",
      "\u001b[1m2439/2439\u001b[0m \u001b[32m━━━━━━━━━━━━━━━━━━━━\u001b[0m\u001b[37m\u001b[0m \u001b[1m3s\u001b[0m 1ms/step - AUC: 0.9521 - Precision: 0.7265 - Recall: 0.6959 - accuracy: 0.9283 - loss: 0.1754 - val_AUC: 0.9469 - val_Precision: 0.7138 - val_Recall: 0.7366 - val_accuracy: 0.9256 - val_loss: 0.1857\n",
      "Epoch 18/50\n",
      "\u001b[1m2439/2439\u001b[0m \u001b[32m━━━━━━━━━━━━━━━━━━━━\u001b[0m\u001b[37m\u001b[0m \u001b[1m3s\u001b[0m 1ms/step - AUC: 0.9516 - Precision: 0.7195 - Recall: 0.6955 - accuracy: 0.9264 - loss: 0.1769 - val_AUC: 0.9466 - val_Precision: 0.7339 - val_Recall: 0.6862 - val_accuracy: 0.9251 - val_loss: 0.1850\n",
      "Epoch 19/50\n",
      "\u001b[1m2439/2439\u001b[0m \u001b[32m━━━━━━━━━━━━━━━━━━━━\u001b[0m\u001b[37m\u001b[0m \u001b[1m3s\u001b[0m 1ms/step - AUC: 0.9509 - Precision: 0.7204 - Recall: 0.7007 - accuracy: 0.9266 - loss: 0.1780 - val_AUC: 0.9467 - val_Precision: 0.7264 - val_Recall: 0.7074 - val_accuracy: 0.9256 - val_loss: 0.1844\n",
      "Epoch 20/50\n",
      "\u001b[1m2439/2439\u001b[0m \u001b[32m━━━━━━━━━━━━━━━━━━━━\u001b[0m\u001b[37m\u001b[0m \u001b[1m2s\u001b[0m 1ms/step - AUC: 0.9500 - Precision: 0.7146 - Recall: 0.6933 - accuracy: 0.9263 - loss: 0.1783 - val_AUC: 0.9469 - val_Precision: 0.7320 - val_Recall: 0.6889 - val_accuracy: 0.9250 - val_loss: 0.1848\n",
      "Epoch 21/50\n",
      "\u001b[1m2439/2439\u001b[0m \u001b[32m━━━━━━━━━━━━━━━━━━━━\u001b[0m\u001b[37m\u001b[0m \u001b[1m3s\u001b[0m 1ms/step - AUC: 0.9530 - Precision: 0.7239 - Recall: 0.7012 - accuracy: 0.9286 - loss: 0.1733 - val_AUC: 0.9469 - val_Precision: 0.7264 - val_Recall: 0.7097 - val_accuracy: 0.9258 - val_loss: 0.1845\n",
      "Epoch 22/50\n",
      "\u001b[1m2439/2439\u001b[0m \u001b[32m━━━━━━━━━━━━━━━━━━━━\u001b[0m\u001b[37m\u001b[0m \u001b[1m3s\u001b[0m 1ms/step - AUC: 0.9507 - Precision: 0.7164 - Recall: 0.6941 - accuracy: 0.9252 - loss: 0.1793 - val_AUC: 0.9469 - val_Precision: 0.7230 - val_Recall: 0.7166 - val_accuracy: 0.9257 - val_loss: 0.1844\n",
      "Epoch 23/50\n",
      "\u001b[1m2439/2439\u001b[0m \u001b[32m━━━━━━━━━━━━━━━━━━━━\u001b[0m\u001b[37m\u001b[0m \u001b[1m3s\u001b[0m 1ms/step - AUC: 0.9525 - Precision: 0.7297 - Recall: 0.7059 - accuracy: 0.9284 - loss: 0.1763 - val_AUC: 0.9470 - val_Precision: 0.7363 - val_Recall: 0.6785 - val_accuracy: 0.9249 - val_loss: 0.1846\n",
      "Epoch 24/50\n",
      "\u001b[1m2439/2439\u001b[0m \u001b[32m━━━━━━━━━━━━━━━━━━━━\u001b[0m\u001b[37m\u001b[0m \u001b[1m3s\u001b[0m 1ms/step - AUC: 0.9521 - Precision: 0.7271 - Recall: 0.6996 - accuracy: 0.9272 - loss: 0.1771 - val_AUC: 0.9468 - val_Precision: 0.7295 - val_Recall: 0.6989 - val_accuracy: 0.9254 - val_loss: 0.1841\n",
      "Epoch 25/50\n",
      "\u001b[1m2439/2439\u001b[0m \u001b[32m━━━━━━━━━━━━━━━━━━━━\u001b[0m\u001b[37m\u001b[0m \u001b[1m3s\u001b[0m 1ms/step - AUC: 0.9498 - Precision: 0.7234 - Recall: 0.6970 - accuracy: 0.9266 - loss: 0.1796 - val_AUC: 0.9468 - val_Precision: 0.7518 - val_Recall: 0.6519 - val_accuracy: 0.9250 - val_loss: 0.1867\n",
      "Epoch 26/50\n",
      "\u001b[1m2439/2439\u001b[0m \u001b[32m━━━━━━━━━━━━━━━━━━━━\u001b[0m\u001b[37m\u001b[0m \u001b[1m3s\u001b[0m 1ms/step - AUC: 0.9526 - Precision: 0.7247 - Recall: 0.6982 - accuracy: 0.9283 - loss: 0.1741 - val_AUC: 0.9469 - val_Precision: 0.7295 - val_Recall: 0.6989 - val_accuracy: 0.9254 - val_loss: 0.1841\n",
      "Epoch 27/50\n",
      "\u001b[1m2439/2439\u001b[0m \u001b[32m━━━━━━━━━━━━━━━━━━━━\u001b[0m\u001b[37m\u001b[0m \u001b[1m3s\u001b[0m 1ms/step - AUC: 0.9534 - Precision: 0.7326 - Recall: 0.7099 - accuracy: 0.9306 - loss: 0.1716 - val_AUC: 0.9468 - val_Precision: 0.7290 - val_Recall: 0.7043 - val_accuracy: 0.9258 - val_loss: 0.1840\n",
      "Epoch 28/50\n",
      "\u001b[1m2439/2439\u001b[0m \u001b[32m━━━━━━━━━━━━━━━━━━━━\u001b[0m\u001b[37m\u001b[0m \u001b[1m3s\u001b[0m 1ms/step - AUC: 0.9537 - Precision: 0.7285 - Recall: 0.7116 - accuracy: 0.9286 - loss: 0.1741 - val_AUC: 0.9469 - val_Precision: 0.7295 - val_Recall: 0.7020 - val_accuracy: 0.9257 - val_loss: 0.1840\n",
      "Epoch 29/50\n",
      "\u001b[1m2439/2439\u001b[0m \u001b[32m━━━━━━━━━━━━━━━━━━━━\u001b[0m\u001b[37m\u001b[0m \u001b[1m3s\u001b[0m 1ms/step - AUC: 0.9528 - Precision: 0.7287 - Recall: 0.7111 - accuracy: 0.9287 - loss: 0.1750 - val_AUC: 0.9470 - val_Precision: 0.7299 - val_Recall: 0.6908 - val_accuracy: 0.9248 - val_loss: 0.1842\n",
      "Epoch 30/50\n",
      "\u001b[1m2439/2439\u001b[0m \u001b[32m━━━━━━━━━━━━━━━━━━━━\u001b[0m\u001b[37m\u001b[0m \u001b[1m3s\u001b[0m 1ms/step - AUC: 0.9523 - Precision: 0.7272 - Recall: 0.7028 - accuracy: 0.9279 - loss: 0.1754 - val_AUC: 0.9473 - val_Precision: 0.7385 - val_Recall: 0.6754 - val_accuracy: 0.9250 - val_loss: 0.1846\n",
      "Epoch 31/50\n",
      "\u001b[1m2439/2439\u001b[0m \u001b[32m━━━━━━━━━━━━━━━━━━━━\u001b[0m\u001b[37m\u001b[0m \u001b[1m3s\u001b[0m 1ms/step - AUC: 0.9528 - Precision: 0.7239 - Recall: 0.7024 - accuracy: 0.9284 - loss: 0.1737 - val_AUC: 0.9470 - val_Precision: 0.7300 - val_Recall: 0.7008 - val_accuracy: 0.9257 - val_loss: 0.1839\n",
      "Epoch 32/50\n",
      "\u001b[1m2439/2439\u001b[0m \u001b[32m━━━━━━━━━━━━━━━━━━━━\u001b[0m\u001b[37m\u001b[0m \u001b[1m3s\u001b[0m 1ms/step - AUC: 0.9531 - Precision: 0.7279 - Recall: 0.7080 - accuracy: 0.9296 - loss: 0.1725 - val_AUC: 0.9468 - val_Precision: 0.7288 - val_Recall: 0.7077 - val_accuracy: 0.9260 - val_loss: 0.1838\n",
      "Epoch 33/50\n",
      "\u001b[1m2439/2439\u001b[0m \u001b[32m━━━━━━━━━━━━━━━━━━━━\u001b[0m\u001b[37m\u001b[0m \u001b[1m3s\u001b[0m 1ms/step - AUC: 0.9528 - Precision: 0.7195 - Recall: 0.7024 - accuracy: 0.9275 - loss: 0.1748 - val_AUC: 0.9471 - val_Precision: 0.7263 - val_Recall: 0.7131 - val_accuracy: 0.9260 - val_loss: 0.1838\n",
      "Epoch 34/50\n",
      "\u001b[1m2439/2439\u001b[0m \u001b[32m━━━━━━━━━━━━━━━━━━━━\u001b[0m\u001b[37m\u001b[0m \u001b[1m3s\u001b[0m 1ms/step - AUC: 0.9519 - Precision: 0.7272 - Recall: 0.7066 - accuracy: 0.9281 - loss: 0.1760 - val_AUC: 0.9470 - val_Precision: 0.7298 - val_Recall: 0.6989 - val_accuracy: 0.9255 - val_loss: 0.1839\n",
      "Epoch 35/50\n",
      "\u001b[1m2439/2439\u001b[0m \u001b[32m━━━━━━━━━━━━━━━━━━━━\u001b[0m\u001b[37m\u001b[0m \u001b[1m3s\u001b[0m 1ms/step - AUC: 0.9526 - Precision: 0.7309 - Recall: 0.7085 - accuracy: 0.9283 - loss: 0.1762 - val_AUC: 0.9472 - val_Precision: 0.7338 - val_Recall: 0.6900 - val_accuracy: 0.9254 - val_loss: 0.1841\n",
      "Epoch 36/50\n",
      "\u001b[1m2439/2439\u001b[0m \u001b[32m━━━━━━━━━━━━━━━━━━━━\u001b[0m\u001b[37m\u001b[0m \u001b[1m2s\u001b[0m 1ms/step - AUC: 0.9522 - Precision: 0.7229 - Recall: 0.7026 - accuracy: 0.9274 - loss: 0.1757 - val_AUC: 0.9472 - val_Precision: 0.7340 - val_Recall: 0.6873 - val_accuracy: 0.9252 - val_loss: 0.1841\n",
      "Epoch 37/50\n",
      "\u001b[1m2439/2439\u001b[0m \u001b[32m━━━━━━━━━━━━━━━━━━━━\u001b[0m\u001b[37m\u001b[0m \u001b[1m3s\u001b[0m 1ms/step - AUC: 0.9537 - Precision: 0.7254 - Recall: 0.7100 - accuracy: 0.9286 - loss: 0.1733 - val_AUC: 0.9470 - val_Precision: 0.7297 - val_Recall: 0.7047 - val_accuracy: 0.9259 - val_loss: 0.1838\n",
      "Epoch 38/50\n",
      "\u001b[1m2439/2439\u001b[0m \u001b[32m━━━━━━━━━━━━━━━━━━━━\u001b[0m\u001b[37m\u001b[0m \u001b[1m3s\u001b[0m 1ms/step - AUC: 0.9540 - Precision: 0.7308 - Recall: 0.7087 - accuracy: 0.9288 - loss: 0.1735 - val_AUC: 0.9469 - val_Precision: 0.7294 - val_Recall: 0.7070 - val_accuracy: 0.9261 - val_loss: 0.1838\n",
      "Epoch 39/50\n",
      "\u001b[1m2439/2439\u001b[0m \u001b[32m━━━━━━━━━━━━━━━━━━━━\u001b[0m\u001b[37m\u001b[0m \u001b[1m3s\u001b[0m 1ms/step - AUC: 0.9521 - Precision: 0.7149 - Recall: 0.6976 - accuracy: 0.9267 - loss: 0.1750 - val_AUC: 0.9469 - val_Precision: 0.7281 - val_Recall: 0.7093 - val_accuracy: 0.9260 - val_loss: 0.1837\n",
      "Epoch 40/50\n",
      "\u001b[1m2439/2439\u001b[0m \u001b[32m━━━━━━━━━━━━━━━━━━━━\u001b[0m\u001b[37m\u001b[0m \u001b[1m3s\u001b[0m 1ms/step - AUC: 0.9532 - Precision: 0.7224 - Recall: 0.7107 - accuracy: 0.9282 - loss: 0.1738 - val_AUC: 0.9471 - val_Precision: 0.7284 - val_Recall: 0.7104 - val_accuracy: 0.9262 - val_loss: 0.1837\n",
      "Epoch 41/50\n",
      "\u001b[1m2439/2439\u001b[0m \u001b[32m━━━━━━━━━━━━━━━━━━━━\u001b[0m\u001b[37m\u001b[0m \u001b[1m3s\u001b[0m 1ms/step - AUC: 0.9545 - Precision: 0.7296 - Recall: 0.7114 - accuracy: 0.9283 - loss: 0.1739 - val_AUC: 0.9473 - val_Precision: 0.7354 - val_Recall: 0.6816 - val_accuracy: 0.9250 - val_loss: 0.1843\n",
      "Epoch 42/50\n",
      "\u001b[1m2439/2439\u001b[0m \u001b[32m━━━━━━━━━━━━━━━━━━━━\u001b[0m\u001b[37m\u001b[0m \u001b[1m3s\u001b[0m 1ms/step - AUC: 0.9518 - Precision: 0.7214 - Recall: 0.7032 - accuracy: 0.9277 - loss: 0.1756 - val_AUC: 0.9472 - val_Precision: 0.7341 - val_Recall: 0.6877 - val_accuracy: 0.9253 - val_loss: 0.1841\n",
      "Epoch 43/50\n",
      "\u001b[1m2439/2439\u001b[0m \u001b[32m━━━━━━━━━━━━━━━━━━━━\u001b[0m\u001b[37m\u001b[0m \u001b[1m3s\u001b[0m 1ms/step - AUC: 0.9522 - Precision: 0.7275 - Recall: 0.7134 - accuracy: 0.9296 - loss: 0.1745 - val_AUC: 0.9470 - val_Precision: 0.7288 - val_Recall: 0.7089 - val_accuracy: 0.9261 - val_loss: 0.1837\n",
      "Epoch 44/50\n",
      "\u001b[1m2439/2439\u001b[0m \u001b[32m━━━━━━━━━━━━━━━━━━━━\u001b[0m\u001b[37m\u001b[0m \u001b[1m3s\u001b[0m 1ms/step - AUC: 0.9525 - Precision: 0.7188 - Recall: 0.7099 - accuracy: 0.9281 - loss: 0.1743 - val_AUC: 0.9470 - val_Precision: 0.7301 - val_Recall: 0.7081 - val_accuracy: 0.9263 - val_loss: 0.1837\n",
      "Epoch 45/50\n",
      "\u001b[1m2439/2439\u001b[0m \u001b[32m━━━━━━━━━━━━━━━━━━━━\u001b[0m\u001b[37m\u001b[0m \u001b[1m3s\u001b[0m 1ms/step - AUC: 0.9521 - Precision: 0.7260 - Recall: 0.7103 - accuracy: 0.9285 - loss: 0.1753 - val_AUC: 0.9471 - val_Precision: 0.7306 - val_Recall: 0.6954 - val_accuracy: 0.9253 - val_loss: 0.1839\n",
      "Epoch 46/50\n",
      "\u001b[1m2439/2439\u001b[0m \u001b[32m━━━━━━━━━━━━━━━━━━━━\u001b[0m\u001b[37m\u001b[0m \u001b[1m3s\u001b[0m 1ms/step - AUC: 0.9518 - Precision: 0.7254 - Recall: 0.7054 - accuracy: 0.9267 - loss: 0.1776 - val_AUC: 0.9470 - val_Precision: 0.7298 - val_Recall: 0.6977 - val_accuracy: 0.9254 - val_loss: 0.1839\n",
      "Epoch 47/50\n",
      "\u001b[1m2439/2439\u001b[0m \u001b[32m━━━━━━━━━━━━━━━━━━━━\u001b[0m\u001b[37m\u001b[0m \u001b[1m3s\u001b[0m 1ms/step - AUC: 0.9500 - Precision: 0.7172 - Recall: 0.7019 - accuracy: 0.9275 - loss: 0.1766 - val_AUC: 0.9470 - val_Precision: 0.7297 - val_Recall: 0.7039 - val_accuracy: 0.9259 - val_loss: 0.1838\n",
      "Epoch 48/50\n",
      "\u001b[1m2439/2439\u001b[0m \u001b[32m━━━━━━━━━━━━━━━━━━━━\u001b[0m\u001b[37m\u001b[0m \u001b[1m3s\u001b[0m 1ms/step - AUC: 0.9511 - Precision: 0.7234 - Recall: 0.7070 - accuracy: 0.9280 - loss: 0.1759 - val_AUC: 0.9470 - val_Precision: 0.7298 - val_Recall: 0.6989 - val_accuracy: 0.9255 - val_loss: 0.1838\n",
      "Epoch 49/50\n",
      "\u001b[1m2439/2439\u001b[0m \u001b[32m━━━━━━━━━━━━━━━━━━━━\u001b[0m\u001b[37m\u001b[0m \u001b[1m3s\u001b[0m 1ms/step - AUC: 0.9537 - Precision: 0.7271 - Recall: 0.7096 - accuracy: 0.9286 - loss: 0.1738 - val_AUC: 0.9470 - val_Precision: 0.7297 - val_Recall: 0.6985 - val_accuracy: 0.9254 - val_loss: 0.1838\n",
      "Epoch 50/50\n",
      "\u001b[1m2439/2439\u001b[0m \u001b[32m━━━━━━━━━━━━━━━━━━━━\u001b[0m\u001b[37m\u001b[0m \u001b[1m3s\u001b[0m 1ms/step - AUC: 0.9531 - Precision: 0.7239 - Recall: 0.7064 - accuracy: 0.9282 - loss: 0.1736 - val_AUC: 0.9471 - val_Precision: 0.7301 - val_Recall: 0.6977 - val_accuracy: 0.9254 - val_loss: 0.1839\n"
     ]
    }
   ],
   "source": [
    "model_nn, history_nn = build_and_train_nn(\n",
    "    X_train, y_train,\n",
    "    X_test, y_test,     # pass test or separate val\n",
    "    lambda_l2=0.001,\n",
    "    initial_lr=0.001,\n",
    "    final_lr=1e-6,\n",
    "    epochs=50,\n",
    "    batch_size=32,\n",
    "    patience=5\n",
    ")"
   ]
  },
  {
   "cell_type": "code",
   "execution_count": 83,
   "metadata": {},
   "outputs": [
    {
     "data": {
      "image/png": "[encoded data removed]",
      "text/plain": [
       "<Figure size 1000x800 with 2 Axes>"
      ]
     },
     "metadata": {},
     "output_type": "display_data"
    }
   ],
   "source": [
    "def plot_training_curves(history):\n",
    "    \"\"\"\n",
    "    Plots training vs. validation loss and accuracy over epochs.\n",
    "    \"\"\"\n",
    "    train_loss = history.history.get('loss', [])\n",
    "    val_loss = history.history.get('val_loss', [])\n",
    "    train_acc = history.history.get('accuracy', [])\n",
    "    val_acc = history.history.get('val_accuracy', [])\n",
    "    \n",
    "    epochs = range(1, len(train_loss) + 1)\n",
    "\n",
    "    fig, ax = plt.subplots(2, 1, figsize=(10, 8))\n",
    "\n",
    "    # LOSS PLOT\n",
    "    ax[0].plot(epochs, train_loss, label='Train Loss')\n",
    "    ax[0].plot(epochs, val_loss, label='Validation Loss')\n",
    "    ax[0].set_title('Loss vs. Epoch')\n",
    "    ax[0].set_xlabel('Epoch')\n",
    "    ax[0].set_ylabel('Loss')\n",
    "    ax[0].legend()\n",
    "    ax[0].grid(True)\n",
    "\n",
    "    #  ACCURACY PLOT\n",
    "    ax[1].plot(epochs, train_acc, label='Train Accuracy')\n",
    "    ax[1].plot(epochs, val_acc, label='Validation Accuracy')\n",
    "    ax[1].set_title('Accuracy vs. Epoch')\n",
    "    ax[1].set_xlabel('Epoch')\n",
    "    ax[1].set_ylabel('Accuracy')\n",
    "    ax[1].legend()\n",
    "    ax[1].grid(True)\n",
    "\n",
    "    plt.tight_layout()\n",
    "    plt.show()\n",
    "\n",
    "plot_training_curves(history_nn)"
   ]
  },
  {
   "cell_type": "code",
   "execution_count": 85,
   "metadata": {},
   "outputs": [
    {
     "name": "stdout",
     "output_type": "stream",
     "text": [
      "\u001b[1m610/610\u001b[0m \u001b[32m━━━━━━━━━━━━━━━━━━━━\u001b[0m\u001b[37m\u001b[0m \u001b[1m0s\u001b[0m 396us/step\n",
      "              precision    recall  f1-score   support\n",
      "\n",
      "           0       0.95      0.96      0.96     16912\n",
      "           1       0.73      0.70      0.71      2597\n",
      "\n",
      "    accuracy                           0.93     19509\n",
      "   macro avg       0.84      0.83      0.84     19509\n",
      "weighted avg       0.92      0.93      0.92     19509\n",
      "\n",
      "ROC AUC: 0.8291\n"
     ]
    },
    {
     "data": {
      "text/plain": [
       "<Axes: >"
      ]
     },
     "execution_count": 85,
     "metadata": {},
     "output_type": "execute_result"
    },
    {
     "data": {
      "image/png": "[encoded data removed]",
      "text/plain": [
       "<Figure size 640x480 with 2 Axes>"
      ]
     },
     "metadata": {},
     "output_type": "display_data"
    }
   ],
   "source": [
    "# Validation and test set predictions\n",
    "y_pred_val = model_nn.predict(X_test)\n",
    "y_pred_val = (y_pred_val > 0.5).astype(int)\n",
    "\n",
    "# Classification report\n",
    "print(classification_report(y_test, y_pred_val))\n",
    "\n",
    "# ROC AUC\n",
    "auc_val = roc_auc_score(y_test, y_pred_val)\n",
    "print(f\"ROC AUC: {auc_val:.4f}\")\n",
    "\n",
    "# CM\n",
    "cm = confusion_matrix(y_test, y_pred_val)\n",
    "sns.heatmap(cm, annot=True, fmt='d', cmap='Blues')\n"
   ]
  },
  {
   "cell_type": "markdown",
   "metadata": {},
   "source": [
    "It seems this model isn't as capable as our XGBoost in terms of its recall in the positive class (default). Meaning higher False Negative. So we will not implementing this model in our application until we further optimise this model resulting in a better result."
   ]
  },
  {
   "cell_type": "code",
   "execution_count": 88,
   "metadata": {},
   "outputs": [],
   "source": [
    "# Save the model\n",
    "model_nn.save(\"models/nn_model.keras\")\n",
    "\n",
    "# Save the scaler\n",
    "joblib.dump(scaler, \"models/scaler_nn.pkl\")\n",
    "\n",
    "# Save the selected features\n",
    "with open(\"models/selected_features_nn.txt\", \"w\") as f:\n",
    "    for item in top_features:\n",
    "        f.write(\"%s\\n\" % item)\n",
    "    f.write(\"\\n# Features selected using XGBoost (Some of these features are in Log scale. Refer to notebook 03 for more details.) used for training the Neural Network model.\")\n"
   ]
  }
 ],
 "metadata": {
  "colab": {
   "provenance": []
  },
  "kernelspec": {
   "display_name": "python_3_12_8",
   "language": "python",
   "name": "python3"
  },
  "language_info": {
   "codemirror_mode": {
    "name": "ipython",
    "version": 3
   },
   "file_extension": ".py",
   "mimetype": "text/x-python",
   "name": "python",
   "nbconvert_exporter": "python",
   "pygments_lexer": "ipython3",
   "version": "3.12.3"
  }
 },
 "nbformat": 4,
 "nbformat_minor": 1
}
